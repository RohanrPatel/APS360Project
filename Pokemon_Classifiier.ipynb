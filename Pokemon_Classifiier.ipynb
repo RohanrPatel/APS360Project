{
  "nbformat": 4,
  "nbformat_minor": 0,
  "metadata": {
    "colab": {
      "provenance": [],
      "collapsed_sections": []
    },
    "kernelspec": {
      "name": "python3",
      "display_name": "Python 3"
    },
    "language_info": {
      "name": "python"
    },
    "widgets": {
      "application/vnd.jupyter.widget-state+json": {
        "794301fd94fd465290f0cb16ee6d4bfb": {
          "model_module": "@jupyter-widgets/controls",
          "model_name": "HBoxModel",
          "model_module_version": "1.5.0",
          "state": {
            "_dom_classes": [],
            "_model_module": "@jupyter-widgets/controls",
            "_model_module_version": "1.5.0",
            "_model_name": "HBoxModel",
            "_view_count": null,
            "_view_module": "@jupyter-widgets/controls",
            "_view_module_version": "1.5.0",
            "_view_name": "HBoxView",
            "box_style": "",
            "children": [
              "IPY_MODEL_ad09362f1737470e90edc30c93c1741d",
              "IPY_MODEL_49155c34bb6b49f3a4eb27bd2b3b943f",
              "IPY_MODEL_4766556fae894493aad15128b47309bb"
            ],
            "layout": "IPY_MODEL_41c1de24fb804344a1d99916b7d27377"
          }
        },
        "ad09362f1737470e90edc30c93c1741d": {
          "model_module": "@jupyter-widgets/controls",
          "model_name": "HTMLModel",
          "model_module_version": "1.5.0",
          "state": {
            "_dom_classes": [],
            "_model_module": "@jupyter-widgets/controls",
            "_model_module_version": "1.5.0",
            "_model_name": "HTMLModel",
            "_view_count": null,
            "_view_module": "@jupyter-widgets/controls",
            "_view_module_version": "1.5.0",
            "_view_name": "HTMLView",
            "description": "",
            "description_tooltip": null,
            "layout": "IPY_MODEL_d7e749bef58b4d88810e099243360b52",
            "placeholder": "​",
            "style": "IPY_MODEL_3185a29ee63c4b38a1ffcaba1c33f4cb",
            "value": "100%"
          }
        },
        "49155c34bb6b49f3a4eb27bd2b3b943f": {
          "model_module": "@jupyter-widgets/controls",
          "model_name": "FloatProgressModel",
          "model_module_version": "1.5.0",
          "state": {
            "_dom_classes": [],
            "_model_module": "@jupyter-widgets/controls",
            "_model_module_version": "1.5.0",
            "_model_name": "FloatProgressModel",
            "_view_count": null,
            "_view_module": "@jupyter-widgets/controls",
            "_view_module_version": "1.5.0",
            "_view_name": "ProgressView",
            "bar_style": "success",
            "description": "",
            "description_tooltip": null,
            "layout": "IPY_MODEL_ee32bbfe2cb04ba59cc68a1f2220be6b",
            "max": 52147035,
            "min": 0,
            "orientation": "horizontal",
            "style": "IPY_MODEL_c515ca0ff7bd4550b0d67b55b77a8e53",
            "value": 52147035
          }
        },
        "4766556fae894493aad15128b47309bb": {
          "model_module": "@jupyter-widgets/controls",
          "model_name": "HTMLModel",
          "model_module_version": "1.5.0",
          "state": {
            "_dom_classes": [],
            "_model_module": "@jupyter-widgets/controls",
            "_model_module_version": "1.5.0",
            "_model_name": "HTMLModel",
            "_view_count": null,
            "_view_module": "@jupyter-widgets/controls",
            "_view_module_version": "1.5.0",
            "_view_name": "HTMLView",
            "description": "",
            "description_tooltip": null,
            "layout": "IPY_MODEL_ae622211c52f4a699311359bb3ab86a1",
            "placeholder": "​",
            "style": "IPY_MODEL_8b61fca94a9c4a339a5a83fc85f80d36",
            "value": " 49.7M/49.7M [00:01&lt;00:00, 91.1MB/s]"
          }
        },
        "41c1de24fb804344a1d99916b7d27377": {
          "model_module": "@jupyter-widgets/base",
          "model_name": "LayoutModel",
          "model_module_version": "1.2.0",
          "state": {
            "_model_module": "@jupyter-widgets/base",
            "_model_module_version": "1.2.0",
            "_model_name": "LayoutModel",
            "_view_count": null,
            "_view_module": "@jupyter-widgets/base",
            "_view_module_version": "1.2.0",
            "_view_name": "LayoutView",
            "align_content": null,
            "align_items": null,
            "align_self": null,
            "border": null,
            "bottom": null,
            "display": null,
            "flex": null,
            "flex_flow": null,
            "grid_area": null,
            "grid_auto_columns": null,
            "grid_auto_flow": null,
            "grid_auto_rows": null,
            "grid_column": null,
            "grid_gap": null,
            "grid_row": null,
            "grid_template_areas": null,
            "grid_template_columns": null,
            "grid_template_rows": null,
            "height": null,
            "justify_content": null,
            "justify_items": null,
            "left": null,
            "margin": null,
            "max_height": null,
            "max_width": null,
            "min_height": null,
            "min_width": null,
            "object_fit": null,
            "object_position": null,
            "order": null,
            "overflow": null,
            "overflow_x": null,
            "overflow_y": null,
            "padding": null,
            "right": null,
            "top": null,
            "visibility": null,
            "width": null
          }
        },
        "d7e749bef58b4d88810e099243360b52": {
          "model_module": "@jupyter-widgets/base",
          "model_name": "LayoutModel",
          "model_module_version": "1.2.0",
          "state": {
            "_model_module": "@jupyter-widgets/base",
            "_model_module_version": "1.2.0",
            "_model_name": "LayoutModel",
            "_view_count": null,
            "_view_module": "@jupyter-widgets/base",
            "_view_module_version": "1.2.0",
            "_view_name": "LayoutView",
            "align_content": null,
            "align_items": null,
            "align_self": null,
            "border": null,
            "bottom": null,
            "display": null,
            "flex": null,
            "flex_flow": null,
            "grid_area": null,
            "grid_auto_columns": null,
            "grid_auto_flow": null,
            "grid_auto_rows": null,
            "grid_column": null,
            "grid_gap": null,
            "grid_row": null,
            "grid_template_areas": null,
            "grid_template_columns": null,
            "grid_template_rows": null,
            "height": null,
            "justify_content": null,
            "justify_items": null,
            "left": null,
            "margin": null,
            "max_height": null,
            "max_width": null,
            "min_height": null,
            "min_width": null,
            "object_fit": null,
            "object_position": null,
            "order": null,
            "overflow": null,
            "overflow_x": null,
            "overflow_y": null,
            "padding": null,
            "right": null,
            "top": null,
            "visibility": null,
            "width": null
          }
        },
        "3185a29ee63c4b38a1ffcaba1c33f4cb": {
          "model_module": "@jupyter-widgets/controls",
          "model_name": "DescriptionStyleModel",
          "model_module_version": "1.5.0",
          "state": {
            "_model_module": "@jupyter-widgets/controls",
            "_model_module_version": "1.5.0",
            "_model_name": "DescriptionStyleModel",
            "_view_count": null,
            "_view_module": "@jupyter-widgets/base",
            "_view_module_version": "1.2.0",
            "_view_name": "StyleView",
            "description_width": ""
          }
        },
        "ee32bbfe2cb04ba59cc68a1f2220be6b": {
          "model_module": "@jupyter-widgets/base",
          "model_name": "LayoutModel",
          "model_module_version": "1.2.0",
          "state": {
            "_model_module": "@jupyter-widgets/base",
            "_model_module_version": "1.2.0",
            "_model_name": "LayoutModel",
            "_view_count": null,
            "_view_module": "@jupyter-widgets/base",
            "_view_module_version": "1.2.0",
            "_view_name": "LayoutView",
            "align_content": null,
            "align_items": null,
            "align_self": null,
            "border": null,
            "bottom": null,
            "display": null,
            "flex": null,
            "flex_flow": null,
            "grid_area": null,
            "grid_auto_columns": null,
            "grid_auto_flow": null,
            "grid_auto_rows": null,
            "grid_column": null,
            "grid_gap": null,
            "grid_row": null,
            "grid_template_areas": null,
            "grid_template_columns": null,
            "grid_template_rows": null,
            "height": null,
            "justify_content": null,
            "justify_items": null,
            "left": null,
            "margin": null,
            "max_height": null,
            "max_width": null,
            "min_height": null,
            "min_width": null,
            "object_fit": null,
            "object_position": null,
            "order": null,
            "overflow": null,
            "overflow_x": null,
            "overflow_y": null,
            "padding": null,
            "right": null,
            "top": null,
            "visibility": null,
            "width": null
          }
        },
        "c515ca0ff7bd4550b0d67b55b77a8e53": {
          "model_module": "@jupyter-widgets/controls",
          "model_name": "ProgressStyleModel",
          "model_module_version": "1.5.0",
          "state": {
            "_model_module": "@jupyter-widgets/controls",
            "_model_module_version": "1.5.0",
            "_model_name": "ProgressStyleModel",
            "_view_count": null,
            "_view_module": "@jupyter-widgets/base",
            "_view_module_version": "1.2.0",
            "_view_name": "StyleView",
            "bar_color": null,
            "description_width": ""
          }
        },
        "ae622211c52f4a699311359bb3ab86a1": {
          "model_module": "@jupyter-widgets/base",
          "model_name": "LayoutModel",
          "model_module_version": "1.2.0",
          "state": {
            "_model_module": "@jupyter-widgets/base",
            "_model_module_version": "1.2.0",
            "_model_name": "LayoutModel",
            "_view_count": null,
            "_view_module": "@jupyter-widgets/base",
            "_view_module_version": "1.2.0",
            "_view_name": "LayoutView",
            "align_content": null,
            "align_items": null,
            "align_self": null,
            "border": null,
            "bottom": null,
            "display": null,
            "flex": null,
            "flex_flow": null,
            "grid_area": null,
            "grid_auto_columns": null,
            "grid_auto_flow": null,
            "grid_auto_rows": null,
            "grid_column": null,
            "grid_gap": null,
            "grid_row": null,
            "grid_template_areas": null,
            "grid_template_columns": null,
            "grid_template_rows": null,
            "height": null,
            "justify_content": null,
            "justify_items": null,
            "left": null,
            "margin": null,
            "max_height": null,
            "max_width": null,
            "min_height": null,
            "min_width": null,
            "object_fit": null,
            "object_position": null,
            "order": null,
            "overflow": null,
            "overflow_x": null,
            "overflow_y": null,
            "padding": null,
            "right": null,
            "top": null,
            "visibility": null,
            "width": null
          }
        },
        "8b61fca94a9c4a339a5a83fc85f80d36": {
          "model_module": "@jupyter-widgets/controls",
          "model_name": "DescriptionStyleModel",
          "model_module_version": "1.5.0",
          "state": {
            "_model_module": "@jupyter-widgets/controls",
            "_model_module_version": "1.5.0",
            "_model_name": "DescriptionStyleModel",
            "_view_count": null,
            "_view_module": "@jupyter-widgets/base",
            "_view_module_version": "1.2.0",
            "_view_name": "StyleView",
            "description_width": ""
          }
        }
      }
    }
  },
  "cells": [
    {
      "cell_type": "markdown",
      "source": [
        "# Importing Data\n"
      ],
      "metadata": {
        "id": "I_HmtpDZVd0D"
      }
    },
    {
      "cell_type": "code",
      "source": [
        "import numpy as np\n",
        "import time\n",
        "import torch\n",
        "import torch.nn as nn\n",
        "import torch.nn.functional as F\n",
        "import torch.optim as optim\n",
        "import torch.utils.data as data\n",
        "import torchvision\n",
        "from torch.utils.data.sampler import SubsetRandomSampler\n",
        "import torchvision.transforms as transforms\n",
        "\n",
        "from google.colab import drive\n",
        "drive.mount('/content/gdrive')"
      ],
      "metadata": {
        "colab": {
          "base_uri": "https://localhost:8080/"
        },
        "id": "fc7_XFepJVHV",
        "outputId": "c7f134bc-454a-4b60-f8da-a3d0cb3df6b6"
      },
      "execution_count": null,
      "outputs": [
        {
          "output_type": "stream",
          "name": "stdout",
          "text": [
            "Mounted at /content/gdrive\n"
          ]
        }
      ]
    },
    {
      "cell_type": "code",
      "source": [
        "# So it is pretty much impossible to share datasets over google drive unless you have a shared drive\n",
        "# But Colab lets you directly clone git repos, so just run this block\n",
        "import time\n",
        "\n",
        "start_time = time.time()\n",
        "\n",
        "!git clone https://github.com/Sidd-T/APS360-Pokemon-Data.git\n",
        "\n",
        "end_time = time.time()\n",
        "elapsed_time = end_time - start_time\n",
        "print(\"Total time elapsed: {:.2f} seconds\".format(elapsed_time))\n",
        "\n",
        "#After this the files should be in the session"
      ],
      "metadata": {
        "id": "Tl1vm-fy4T_K",
        "colab": {
          "base_uri": "https://localhost:8080/"
        },
        "outputId": "17fe23d9-57e0-4284-8f51-3370d655d389"
      },
      "execution_count": null,
      "outputs": [
        {
          "output_type": "stream",
          "name": "stdout",
          "text": [
            "Cloning into 'APS360-Pokemon-Data'...\n",
            "remote: Enumerating objects: 40741, done.\u001b[K\n",
            "remote: Counting objects: 100% (17/17), done.\u001b[K\n",
            "remote: Compressing objects: 100% (14/14), done.\u001b[K\n",
            "remote: Total 40741 (delta 5), reused 14 (delta 2), pack-reused 40724\u001b[K\n",
            "Receiving objects: 100% (40741/40741), 736.35 MiB | 38.32 MiB/s, done.\n",
            "Resolving deltas: 100% (958/958), done.\n",
            "Checking out files: 100% (48377/48377), done.\n",
            "Total time elapsed: 27.26 seconds\n"
          ]
        }
      ]
    },
    {
      "cell_type": "code",
      "source": [
        "import csv\n",
        "import numpy as np\n",
        "import random\n",
        "import torch\n",
        "import torch.utils.data\n",
        "\n",
        "import pandas as pd"
      ],
      "metadata": {
        "id": "-lkHvVuyG45K"
      },
      "execution_count": null,
      "outputs": []
    },
    {
      "cell_type": "code",
      "source": [
        "pokemon_ordered = pd.read_csv('/content/APS360-Pokemon-Data/labelled_set/pokemon.csv')\n",
        "pokemon_ordered = pokemon_ordered[[\"Name\", \"Type1\", \"Type2\"]]\n",
        "pokemon_t1 = pd.read_csv('/content/APS360-Pokemon-Data/labelled_set/pokemon_by_primary_type.csv')\n",
        "pokemon_t2 = pd.read_csv('/content/APS360-Pokemon-Data/labelled_set/pokemon_with_secondary_type_sorted.csv')"
      ],
      "metadata": {
        "id": "ZO3ojgxGG9Qg"
      },
      "execution_count": null,
      "outputs": []
    },
    {
      "cell_type": "code",
      "source": [
        "import matplotlib.pyplot as plt\n",
        "import re\n",
        "from os import listdir\n",
        "from os.path import isfile, join\n",
        "\n",
        "catcols = [\"Bug\", \"Dark\", \"Dragon\", \"Electric\", \"Fairy\", \"Fighting\", \"Fire\", \"Flying\", \"Ghost\", \n",
        "           \"Grass\",\"Ground\", \"Ice\", \"Normal\", \"Poison\", \"Psychic\", \"Rock\", \"Steel\", \"Water\"]\n",
        "\n",
        "img_path = []\n",
        "names = []\n",
        "\n",
        "IMG_DIR = '/content/APS360-Pokemon-Data/labelled_set/images'\n",
        "\n",
        "files = [f for f in listdir(IMG_DIR) if isfile(join(IMG_DIR, f))]\n",
        "for img in files:\n",
        "    pokemon_name = img.split('.')\n",
        "    path = IMG_DIR +'/' +str(img)\n",
        "    img_path.append(path)\n",
        "    names.append(pokemon_name[0])\n",
        "\n",
        "img_df = pd.DataFrame([])\n",
        "img_df['img_path'] = img_path\n",
        "img_df['Name'] = names\n",
        "\n",
        "img_df[:9]"
      ],
      "metadata": {
        "colab": {
          "base_uri": "https://localhost:8080/",
          "height": 332
        },
        "id": "JKNNplzbRveZ",
        "outputId": "00c8c45b-0498-4025-cd12-732f77056687"
      },
      "execution_count": null,
      "outputs": [
        {
          "output_type": "execute_result",
          "data": {
            "text/plain": [
              "                                            img_path          Name\n",
              "0  /content/APS360-Pokemon-Data/labelled_set/imag...       crustle\n",
              "1  /content/APS360-Pokemon-Data/labelled_set/imag...    carracosta\n",
              "2  /content/APS360-Pokemon-Data/labelled_set/imag...       claydol\n",
              "3  /content/APS360-Pokemon-Data/labelled_set/imag...     magmortar\n",
              "4  /content/APS360-Pokemon-Data/labelled_set/imag...       grovyle\n",
              "5  /content/APS360-Pokemon-Data/labelled_set/imag...       sliggoo\n",
              "6  /content/APS360-Pokemon-Data/labelled_set/imag...  crabominable\n",
              "7  /content/APS360-Pokemon-Data/labelled_set/imag...        kabuto\n",
              "8  /content/APS360-Pokemon-Data/labelled_set/imag...         unown"
            ],
            "text/html": [
              "\n",
              "  <div id=\"df-e7ecc575-ec52-4658-8321-0a014f71efc4\">\n",
              "    <div class=\"colab-df-container\">\n",
              "      <div>\n",
              "<style scoped>\n",
              "    .dataframe tbody tr th:only-of-type {\n",
              "        vertical-align: middle;\n",
              "    }\n",
              "\n",
              "    .dataframe tbody tr th {\n",
              "        vertical-align: top;\n",
              "    }\n",
              "\n",
              "    .dataframe thead th {\n",
              "        text-align: right;\n",
              "    }\n",
              "</style>\n",
              "<table border=\"1\" class=\"dataframe\">\n",
              "  <thead>\n",
              "    <tr style=\"text-align: right;\">\n",
              "      <th></th>\n",
              "      <th>img_path</th>\n",
              "      <th>Name</th>\n",
              "    </tr>\n",
              "  </thead>\n",
              "  <tbody>\n",
              "    <tr>\n",
              "      <th>0</th>\n",
              "      <td>/content/APS360-Pokemon-Data/labelled_set/imag...</td>\n",
              "      <td>crustle</td>\n",
              "    </tr>\n",
              "    <tr>\n",
              "      <th>1</th>\n",
              "      <td>/content/APS360-Pokemon-Data/labelled_set/imag...</td>\n",
              "      <td>carracosta</td>\n",
              "    </tr>\n",
              "    <tr>\n",
              "      <th>2</th>\n",
              "      <td>/content/APS360-Pokemon-Data/labelled_set/imag...</td>\n",
              "      <td>claydol</td>\n",
              "    </tr>\n",
              "    <tr>\n",
              "      <th>3</th>\n",
              "      <td>/content/APS360-Pokemon-Data/labelled_set/imag...</td>\n",
              "      <td>magmortar</td>\n",
              "    </tr>\n",
              "    <tr>\n",
              "      <th>4</th>\n",
              "      <td>/content/APS360-Pokemon-Data/labelled_set/imag...</td>\n",
              "      <td>grovyle</td>\n",
              "    </tr>\n",
              "    <tr>\n",
              "      <th>5</th>\n",
              "      <td>/content/APS360-Pokemon-Data/labelled_set/imag...</td>\n",
              "      <td>sliggoo</td>\n",
              "    </tr>\n",
              "    <tr>\n",
              "      <th>6</th>\n",
              "      <td>/content/APS360-Pokemon-Data/labelled_set/imag...</td>\n",
              "      <td>crabominable</td>\n",
              "    </tr>\n",
              "    <tr>\n",
              "      <th>7</th>\n",
              "      <td>/content/APS360-Pokemon-Data/labelled_set/imag...</td>\n",
              "      <td>kabuto</td>\n",
              "    </tr>\n",
              "    <tr>\n",
              "      <th>8</th>\n",
              "      <td>/content/APS360-Pokemon-Data/labelled_set/imag...</td>\n",
              "      <td>unown</td>\n",
              "    </tr>\n",
              "  </tbody>\n",
              "</table>\n",
              "</div>\n",
              "      <button class=\"colab-df-convert\" onclick=\"convertToInteractive('df-e7ecc575-ec52-4658-8321-0a014f71efc4')\"\n",
              "              title=\"Convert this dataframe to an interactive table.\"\n",
              "              style=\"display:none;\">\n",
              "        \n",
              "  <svg xmlns=\"http://www.w3.org/2000/svg\" height=\"24px\"viewBox=\"0 0 24 24\"\n",
              "       width=\"24px\">\n",
              "    <path d=\"M0 0h24v24H0V0z\" fill=\"none\"/>\n",
              "    <path d=\"M18.56 5.44l.94 2.06.94-2.06 2.06-.94-2.06-.94-.94-2.06-.94 2.06-2.06.94zm-11 1L8.5 8.5l.94-2.06 2.06-.94-2.06-.94L8.5 2.5l-.94 2.06-2.06.94zm10 10l.94 2.06.94-2.06 2.06-.94-2.06-.94-.94-2.06-.94 2.06-2.06.94z\"/><path d=\"M17.41 7.96l-1.37-1.37c-.4-.4-.92-.59-1.43-.59-.52 0-1.04.2-1.43.59L10.3 9.45l-7.72 7.72c-.78.78-.78 2.05 0 2.83L4 21.41c.39.39.9.59 1.41.59.51 0 1.02-.2 1.41-.59l7.78-7.78 2.81-2.81c.8-.78.8-2.07 0-2.86zM5.41 20L4 18.59l7.72-7.72 1.47 1.35L5.41 20z\"/>\n",
              "  </svg>\n",
              "      </button>\n",
              "      \n",
              "  <style>\n",
              "    .colab-df-container {\n",
              "      display:flex;\n",
              "      flex-wrap:wrap;\n",
              "      gap: 12px;\n",
              "    }\n",
              "\n",
              "    .colab-df-convert {\n",
              "      background-color: #E8F0FE;\n",
              "      border: none;\n",
              "      border-radius: 50%;\n",
              "      cursor: pointer;\n",
              "      display: none;\n",
              "      fill: #1967D2;\n",
              "      height: 32px;\n",
              "      padding: 0 0 0 0;\n",
              "      width: 32px;\n",
              "    }\n",
              "\n",
              "    .colab-df-convert:hover {\n",
              "      background-color: #E2EBFA;\n",
              "      box-shadow: 0px 1px 2px rgba(60, 64, 67, 0.3), 0px 1px 3px 1px rgba(60, 64, 67, 0.15);\n",
              "      fill: #174EA6;\n",
              "    }\n",
              "\n",
              "    [theme=dark] .colab-df-convert {\n",
              "      background-color: #3B4455;\n",
              "      fill: #D2E3FC;\n",
              "    }\n",
              "\n",
              "    [theme=dark] .colab-df-convert:hover {\n",
              "      background-color: #434B5C;\n",
              "      box-shadow: 0px 1px 3px 1px rgba(0, 0, 0, 0.15);\n",
              "      filter: drop-shadow(0px 1px 2px rgba(0, 0, 0, 0.3));\n",
              "      fill: #FFFFFF;\n",
              "    }\n",
              "  </style>\n",
              "\n",
              "      <script>\n",
              "        const buttonEl =\n",
              "          document.querySelector('#df-e7ecc575-ec52-4658-8321-0a014f71efc4 button.colab-df-convert');\n",
              "        buttonEl.style.display =\n",
              "          google.colab.kernel.accessAllowed ? 'block' : 'none';\n",
              "\n",
              "        async function convertToInteractive(key) {\n",
              "          const element = document.querySelector('#df-e7ecc575-ec52-4658-8321-0a014f71efc4');\n",
              "          const dataTable =\n",
              "            await google.colab.kernel.invokeFunction('convertToInteractive',\n",
              "                                                     [key], {});\n",
              "          if (!dataTable) return;\n",
              "\n",
              "          const docLinkHtml = 'Like what you see? Visit the ' +\n",
              "            '<a target=\"_blank\" href=https://colab.research.google.com/notebooks/data_table.ipynb>data table notebook</a>'\n",
              "            + ' to learn more about interactive tables.';\n",
              "          element.innerHTML = '';\n",
              "          dataTable['output_type'] = 'display_data';\n",
              "          await google.colab.output.renderOutput(dataTable, element);\n",
              "          const docLink = document.createElement('div');\n",
              "          docLink.innerHTML = docLinkHtml;\n",
              "          element.appendChild(docLink);\n",
              "        }\n",
              "      </script>\n",
              "    </div>\n",
              "  </div>\n",
              "  "
            ]
          },
          "metadata": {},
          "execution_count": 5
        }
      ]
    },
    {
      "cell_type": "code",
      "source": [
        "type_num = []\n",
        "image = []\n",
        "\n",
        "for i, row in pokemon_ordered.iterrows():\n",
        "  type_num.append(catcols.index(row[\"Type1\"]))\n",
        "  for j, row2 in img_df.iterrows():\n",
        "    if row[\"Name\"] == row2[\"Name\"]:\n",
        "      path = row2[\"img_path\"]\n",
        "      break\n",
        "    else:\n",
        "      continue\n",
        "  image.append(path)  \n",
        "\n",
        "pokemon_ordered[\"type_num\"] = type_num\n",
        "pokemon_ordered[\"image\"] = image\n",
        "\n",
        "sub_po = pokemon_ordered[[\"image\", \"type_num\"]]\n",
        "sub_po[:9]"
      ],
      "metadata": {
        "id": "Wqz0-EdXPIrD",
        "colab": {
          "base_uri": "https://localhost:8080/",
          "height": 332
        },
        "outputId": "f19d542f-e571-4a88-ce4e-5386c51a6d6f"
      },
      "execution_count": null,
      "outputs": [
        {
          "output_type": "execute_result",
          "data": {
            "text/plain": [
              "                                               image  type_num\n",
              "0  /content/APS360-Pokemon-Data/labelled_set/imag...         9\n",
              "1  /content/APS360-Pokemon-Data/labelled_set/imag...         9\n",
              "2  /content/APS360-Pokemon-Data/labelled_set/imag...         9\n",
              "3  /content/APS360-Pokemon-Data/labelled_set/imag...         6\n",
              "4  /content/APS360-Pokemon-Data/labelled_set/imag...         6\n",
              "5  /content/APS360-Pokemon-Data/labelled_set/imag...         6\n",
              "6  /content/APS360-Pokemon-Data/labelled_set/imag...        17\n",
              "7  /content/APS360-Pokemon-Data/labelled_set/imag...        17\n",
              "8  /content/APS360-Pokemon-Data/labelled_set/imag...        17"
            ],
            "text/html": [
              "\n",
              "  <div id=\"df-706dddb6-bb9b-4cd8-b19d-38bd671fd3ff\">\n",
              "    <div class=\"colab-df-container\">\n",
              "      <div>\n",
              "<style scoped>\n",
              "    .dataframe tbody tr th:only-of-type {\n",
              "        vertical-align: middle;\n",
              "    }\n",
              "\n",
              "    .dataframe tbody tr th {\n",
              "        vertical-align: top;\n",
              "    }\n",
              "\n",
              "    .dataframe thead th {\n",
              "        text-align: right;\n",
              "    }\n",
              "</style>\n",
              "<table border=\"1\" class=\"dataframe\">\n",
              "  <thead>\n",
              "    <tr style=\"text-align: right;\">\n",
              "      <th></th>\n",
              "      <th>image</th>\n",
              "      <th>type_num</th>\n",
              "    </tr>\n",
              "  </thead>\n",
              "  <tbody>\n",
              "    <tr>\n",
              "      <th>0</th>\n",
              "      <td>/content/APS360-Pokemon-Data/labelled_set/imag...</td>\n",
              "      <td>9</td>\n",
              "    </tr>\n",
              "    <tr>\n",
              "      <th>1</th>\n",
              "      <td>/content/APS360-Pokemon-Data/labelled_set/imag...</td>\n",
              "      <td>9</td>\n",
              "    </tr>\n",
              "    <tr>\n",
              "      <th>2</th>\n",
              "      <td>/content/APS360-Pokemon-Data/labelled_set/imag...</td>\n",
              "      <td>9</td>\n",
              "    </tr>\n",
              "    <tr>\n",
              "      <th>3</th>\n",
              "      <td>/content/APS360-Pokemon-Data/labelled_set/imag...</td>\n",
              "      <td>6</td>\n",
              "    </tr>\n",
              "    <tr>\n",
              "      <th>4</th>\n",
              "      <td>/content/APS360-Pokemon-Data/labelled_set/imag...</td>\n",
              "      <td>6</td>\n",
              "    </tr>\n",
              "    <tr>\n",
              "      <th>5</th>\n",
              "      <td>/content/APS360-Pokemon-Data/labelled_set/imag...</td>\n",
              "      <td>6</td>\n",
              "    </tr>\n",
              "    <tr>\n",
              "      <th>6</th>\n",
              "      <td>/content/APS360-Pokemon-Data/labelled_set/imag...</td>\n",
              "      <td>17</td>\n",
              "    </tr>\n",
              "    <tr>\n",
              "      <th>7</th>\n",
              "      <td>/content/APS360-Pokemon-Data/labelled_set/imag...</td>\n",
              "      <td>17</td>\n",
              "    </tr>\n",
              "    <tr>\n",
              "      <th>8</th>\n",
              "      <td>/content/APS360-Pokemon-Data/labelled_set/imag...</td>\n",
              "      <td>17</td>\n",
              "    </tr>\n",
              "  </tbody>\n",
              "</table>\n",
              "</div>\n",
              "      <button class=\"colab-df-convert\" onclick=\"convertToInteractive('df-706dddb6-bb9b-4cd8-b19d-38bd671fd3ff')\"\n",
              "              title=\"Convert this dataframe to an interactive table.\"\n",
              "              style=\"display:none;\">\n",
              "        \n",
              "  <svg xmlns=\"http://www.w3.org/2000/svg\" height=\"24px\"viewBox=\"0 0 24 24\"\n",
              "       width=\"24px\">\n",
              "    <path d=\"M0 0h24v24H0V0z\" fill=\"none\"/>\n",
              "    <path d=\"M18.56 5.44l.94 2.06.94-2.06 2.06-.94-2.06-.94-.94-2.06-.94 2.06-2.06.94zm-11 1L8.5 8.5l.94-2.06 2.06-.94-2.06-.94L8.5 2.5l-.94 2.06-2.06.94zm10 10l.94 2.06.94-2.06 2.06-.94-2.06-.94-.94-2.06-.94 2.06-2.06.94z\"/><path d=\"M17.41 7.96l-1.37-1.37c-.4-.4-.92-.59-1.43-.59-.52 0-1.04.2-1.43.59L10.3 9.45l-7.72 7.72c-.78.78-.78 2.05 0 2.83L4 21.41c.39.39.9.59 1.41.59.51 0 1.02-.2 1.41-.59l7.78-7.78 2.81-2.81c.8-.78.8-2.07 0-2.86zM5.41 20L4 18.59l7.72-7.72 1.47 1.35L5.41 20z\"/>\n",
              "  </svg>\n",
              "      </button>\n",
              "      \n",
              "  <style>\n",
              "    .colab-df-container {\n",
              "      display:flex;\n",
              "      flex-wrap:wrap;\n",
              "      gap: 12px;\n",
              "    }\n",
              "\n",
              "    .colab-df-convert {\n",
              "      background-color: #E8F0FE;\n",
              "      border: none;\n",
              "      border-radius: 50%;\n",
              "      cursor: pointer;\n",
              "      display: none;\n",
              "      fill: #1967D2;\n",
              "      height: 32px;\n",
              "      padding: 0 0 0 0;\n",
              "      width: 32px;\n",
              "    }\n",
              "\n",
              "    .colab-df-convert:hover {\n",
              "      background-color: #E2EBFA;\n",
              "      box-shadow: 0px 1px 2px rgba(60, 64, 67, 0.3), 0px 1px 3px 1px rgba(60, 64, 67, 0.15);\n",
              "      fill: #174EA6;\n",
              "    }\n",
              "\n",
              "    [theme=dark] .colab-df-convert {\n",
              "      background-color: #3B4455;\n",
              "      fill: #D2E3FC;\n",
              "    }\n",
              "\n",
              "    [theme=dark] .colab-df-convert:hover {\n",
              "      background-color: #434B5C;\n",
              "      box-shadow: 0px 1px 3px 1px rgba(0, 0, 0, 0.15);\n",
              "      filter: drop-shadow(0px 1px 2px rgba(0, 0, 0, 0.3));\n",
              "      fill: #FFFFFF;\n",
              "    }\n",
              "  </style>\n",
              "\n",
              "      <script>\n",
              "        const buttonEl =\n",
              "          document.querySelector('#df-706dddb6-bb9b-4cd8-b19d-38bd671fd3ff button.colab-df-convert');\n",
              "        buttonEl.style.display =\n",
              "          google.colab.kernel.accessAllowed ? 'block' : 'none';\n",
              "\n",
              "        async function convertToInteractive(key) {\n",
              "          const element = document.querySelector('#df-706dddb6-bb9b-4cd8-b19d-38bd671fd3ff');\n",
              "          const dataTable =\n",
              "            await google.colab.kernel.invokeFunction('convertToInteractive',\n",
              "                                                     [key], {});\n",
              "          if (!dataTable) return;\n",
              "\n",
              "          const docLinkHtml = 'Like what you see? Visit the ' +\n",
              "            '<a target=\"_blank\" href=https://colab.research.google.com/notebooks/data_table.ipynb>data table notebook</a>'\n",
              "            + ' to learn more about interactive tables.';\n",
              "          element.innerHTML = '';\n",
              "          dataTable['output_type'] = 'display_data';\n",
              "          await google.colab.output.renderOutput(dataTable, element);\n",
              "          const docLink = document.createElement('div');\n",
              "          docLink.innerHTML = docLinkHtml;\n",
              "          element.appendChild(docLink);\n",
              "        }\n",
              "      </script>\n",
              "    </div>\n",
              "  </div>\n",
              "  "
            ]
          },
          "metadata": {},
          "execution_count": 6
        }
      ]
    },
    {
      "cell_type": "code",
      "source": [
        "image[721:724] #checking if the jpgs were inputted properly"
      ],
      "metadata": {
        "id": "5zfZdZXKWSaU",
        "colab": {
          "base_uri": "https://localhost:8080/"
        },
        "outputId": "a879a1b7-a197-497d-923b-e0f976e1eb59"
      },
      "execution_count": null,
      "outputs": [
        {
          "output_type": "execute_result",
          "data": {
            "text/plain": [
              "['/content/APS360-Pokemon-Data/labelled_set/images/rowlet.jpg',\n",
              " '/content/APS360-Pokemon-Data/labelled_set/images/dartrix.jpg',\n",
              " '/content/APS360-Pokemon-Data/labelled_set/images/decidueye.jpg']"
            ]
          },
          "metadata": {},
          "execution_count": 7
        }
      ]
    },
    {
      "cell_type": "code",
      "source": [
        "import os\n",
        "\n",
        "os.mkdir('/content/APS360-Pokemon-Data/labels')"
      ],
      "metadata": {
        "id": "3V7AXdHCmDyG"
      },
      "execution_count": null,
      "outputs": []
    },
    {
      "cell_type": "code",
      "source": [
        "parent_path = '/content/APS360-Pokemon-Data/labels/'\n",
        "for i in range(18):\n",
        "  dir_path = parent_path + str(i)\n",
        "  print(dir_path)\n",
        "  os.mkdir(dir_path)"
      ],
      "metadata": {
        "id": "b94sTXOXnYAr",
        "colab": {
          "base_uri": "https://localhost:8080/"
        },
        "outputId": "b81252c3-0f8d-4aa3-d07d-3ac43994f7b7"
      },
      "execution_count": null,
      "outputs": [
        {
          "output_type": "stream",
          "name": "stdout",
          "text": [
            "/content/APS360-Pokemon-Data/labels/0\n",
            "/content/APS360-Pokemon-Data/labels/1\n",
            "/content/APS360-Pokemon-Data/labels/2\n",
            "/content/APS360-Pokemon-Data/labels/3\n",
            "/content/APS360-Pokemon-Data/labels/4\n",
            "/content/APS360-Pokemon-Data/labels/5\n",
            "/content/APS360-Pokemon-Data/labels/6\n",
            "/content/APS360-Pokemon-Data/labels/7\n",
            "/content/APS360-Pokemon-Data/labels/8\n",
            "/content/APS360-Pokemon-Data/labels/9\n",
            "/content/APS360-Pokemon-Data/labels/10\n",
            "/content/APS360-Pokemon-Data/labels/11\n",
            "/content/APS360-Pokemon-Data/labels/12\n",
            "/content/APS360-Pokemon-Data/labels/13\n",
            "/content/APS360-Pokemon-Data/labels/14\n",
            "/content/APS360-Pokemon-Data/labels/15\n",
            "/content/APS360-Pokemon-Data/labels/16\n",
            "/content/APS360-Pokemon-Data/labels/17\n"
          ]
        }
      ]
    },
    {
      "cell_type": "code",
      "source": [
        "import shutil\n",
        "\n",
        "for i, row in sub_po.iterrows():\n",
        "  src = row[\"image\"]\n",
        "  dest = '/content/APS360-Pokemon-Data/labels/' + str(row[\"type_num\"])\n",
        "  shutil.copy2(src, dest)"
      ],
      "metadata": {
        "id": "FNrWNF_Cn-rS"
      },
      "execution_count": null,
      "outputs": []
    },
    {
      "cell_type": "code",
      "source": [
        "def getTypeFromNum(num):\n",
        "  type_code = pokemon_ordered.loc[num-1].at[\"type_num\"]\n",
        "  return type_code"
      ],
      "metadata": {
        "id": "Nwi6CtfzkGgf"
      },
      "execution_count": null,
      "outputs": []
    },
    {
      "cell_type": "code",
      "source": [
        "def catagorizeFolder(IMG_DIR):\n",
        "  img_path = []\n",
        "  numbers = []\n",
        "\n",
        "  files = [f for f in listdir(IMG_DIR) if isfile(join(IMG_DIR, f))]\n",
        "  for img in files:\n",
        "      num = img.split('.')\n",
        "      num = num[0]\n",
        "      if re.search('-', num):\n",
        "        num = num.split('-')\n",
        "        num = num[0]\n",
        "      if re.search('f', num):\n",
        "        num = num.split('f')\n",
        "        num = num[0]\n",
        "      if num.isnumeric():\n",
        "        num = int(num)\n",
        "      else:\n",
        "        continue;\n",
        "      if (num > 809 or num < 1):\n",
        "        continue;\n",
        "      else:\n",
        "        path = IMG_DIR +'/' +str(img)\n",
        "        img_path.append(path)\n",
        "        numbers.append(num)\n",
        "\n",
        "  img_df = pd.DataFrame([])\n",
        "  img_df['img_path'] = img_path\n",
        "  img_df['idx'] = numbers\n",
        "  print(img_df[:3])\n",
        "\n",
        "  for i, row in img_df.iterrows():\n",
        "    src = row[\"img_path\"]\n",
        "    dest = '/content/APS360-Pokemon-Data/labels/' + str(getTypeFromNum(row[\"idx\"])) +'/'+ str(row[\"idx\"])\n",
        "    if IMG_DIR == '/content/APS360-Pokemon-Data/sprites':\n",
        "      dest += \"-sprites\"\n",
        "    elif IMG_DIR == '/content/APS360-Pokemon-Data/extra_data/back':\n",
        "      dest += \"-back\"\n",
        "    elif IMG_DIR == '/content/APS360-Pokemon-Data/extra_data/other/home':\n",
        "      dest += \"-3d\"\n",
        "    #i dont know why this didnt work with src[-4:-1]\n",
        "    dest += src[-4]\n",
        "    dest += src[-3]\n",
        "    dest += src[-2]\n",
        "    dest += src[-1]\n",
        "    shutil.copyfile(src, dest)\n",
        "\n",
        "#Make sure to not include the ending /, that is adding in the function\n",
        "catagorizeFolder('/content/APS360-Pokemon-Data/pokemon_jpg')\n",
        "catagorizeFolder('/content/APS360-Pokemon-Data/sprites')\n",
        "catagorizeFolder('/content/APS360-Pokemon-Data/extra_data/back')\n",
        "catagorizeFolder('/content/APS360-Pokemon-Data/extra_data/other/home')"
      ],
      "metadata": {
        "colab": {
          "base_uri": "https://localhost:8080/"
        },
        "id": "lrfw-fdnfVnW",
        "outputId": "db0d0628-a41f-4f6b-ef0a-51e2d6170d6f"
      },
      "execution_count": null,
      "outputs": [
        {
          "output_type": "stream",
          "name": "stdout",
          "text": [
            "                                           img_path  idx\n",
            "0  /content/APS360-Pokemon-Data/pokemon_jpg/568.jpg  568\n",
            "1   /content/APS360-Pokemon-Data/pokemon_jpg/73.jpg   73\n",
            "2   /content/APS360-Pokemon-Data/pokemon_jpg/33.jpg   33\n",
            "                                            img_path  idx\n",
            "0       /content/APS360-Pokemon-Data/sprites/749.png  749\n",
            "1        /content/APS360-Pokemon-Data/sprites/40.png   40\n",
            "2  /content/APS360-Pokemon-Data/sprites/773-psych...  773\n",
            "                                            img_path  idx\n",
            "0  /content/APS360-Pokemon-Data/extra_data/back/7...  749\n",
            "1  /content/APS360-Pokemon-Data/extra_data/back/4...   40\n",
            "2  /content/APS360-Pokemon-Data/extra_data/back/8...    8\n",
            "                                            img_path  idx\n",
            "0  /content/APS360-Pokemon-Data/extra_data/other/...  749\n",
            "1  /content/APS360-Pokemon-Data/extra_data/other/...   40\n",
            "2  /content/APS360-Pokemon-Data/extra_data/other/...  773\n"
          ]
        }
      ]
    },
    {
      "cell_type": "code",
      "source": [
        "def get_data_loader(batch_size, path='/content/APS360-Pokemon-Data/labels/'):\n",
        "    torch.manual_seed(0)\n",
        "    \n",
        "    # these are prerequisite for using googleNet, according to https://pytorch.org/hub/pytorch_vision_googlenet/\n",
        "    # challenge 1 (image small)\n",
        "    transform = transforms.Compose([\n",
        "      transforms.Resize(256),\n",
        "      transforms.CenterCrop(224),\n",
        "      transforms.ToTensor(),\n",
        "      transforms.Normalize(mean=[0.485, 0.456, 0.406], std=[0.229, 0.224, 0.225]),\n",
        "      ])\n",
        "\n",
        "    fullset = torchvision.datasets.ImageFolder(root=path, transform=transform)\n",
        "\n",
        "    #from lab 2, 2/3 is training, 1/6 is test, 1/6 is val\n",
        "\n",
        "    trainSetSize = int(len(fullset) * 2 / 3)\n",
        "    valSetSize = int(len(fullset) * 1 / 6)\n",
        "    testSetSize = len(fullset) - trainSetSize - valSetSize\n",
        "\n",
        "    train_set, val_set, test_set = data.random_split(fullset, [trainSetSize, valSetSize, testSetSize])\n",
        "\n",
        "    train_loader = torch.utils.data.DataLoader(train_set, batch_size=batch_size,num_workers=1)\n",
        "    val_loader = torch.utils.data.DataLoader(val_set, batch_size=batch_size,num_workers=1)\n",
        "    test_loader = torch.utils.data.DataLoader(test_set, batch_size=batch_size,num_workers=1)\n",
        "    # length of loader is how many batches the set was split into\n",
        "    return train_loader, val_loader, test_loader"
      ],
      "metadata": {
        "id": "hkhz-geiCsMa"
      },
      "execution_count": null,
      "outputs": []
    },
    {
      "cell_type": "code",
      "source": [
        "train_loader, val_loader, test_loader = get_data_loader(32)"
      ],
      "metadata": {
        "id": "u2ZApqtredaB"
      },
      "execution_count": null,
      "outputs": []
    },
    {
      "cell_type": "code",
      "source": [
        "\"\"\"\n",
        "import matplotlib.pyplot as plt\n",
        "\n",
        "k = 0\n",
        "for images, labels in train_loader:\n",
        "    image = images[0]\n",
        "    print(image.shape)\n",
        "    img = np.transpose(image, [1,2,0])\n",
        "\n",
        "    img = img / 2 + 0.5\n",
        "    plt.subplot(3, 5, k+1)\n",
        "    plt.axis('off')\n",
        "    plt.imshow(img)\n",
        "    print(labels[0])\n",
        "\n",
        "    k += 1\n",
        "    if k > 14:\n",
        "        break\n",
        "\"\"\""
      ],
      "metadata": {
        "id": "0___1ycDdwe_"
      },
      "execution_count": null,
      "outputs": []
    },
    {
      "cell_type": "markdown",
      "source": [
        "# Main Model"
      ],
      "metadata": {
        "id": "XXM20nQMJSzk"
      }
    },
    {
      "cell_type": "markdown",
      "source": [
        "## Helper functions"
      ],
      "metadata": {
        "id": "G7gVjLrJLVDA"
      }
    },
    {
      "cell_type": "code",
      "source": [
        "import numpy as np\n",
        "import time\n",
        "import torch\n",
        "import torch.nn as nn\n",
        "import torch.nn.functional as F\n",
        "import torch.optim as optim\n",
        "import torch.utils.data as data\n",
        "import torchvision\n",
        "from torch.utils.data.sampler import SubsetRandomSampler\n",
        "import torchvision.transforms as transforms\n",
        "\n",
        "from google.colab import drive\n",
        "drive.mount('/content/gdrive')"
      ],
      "metadata": {
        "colab": {
          "base_uri": "https://localhost:8080/"
        },
        "id": "0Ze1blAz0BSP",
        "outputId": "d5a6b537-ec88-4033-b7b6-11e9ca17aaf2"
      },
      "execution_count": null,
      "outputs": [
        {
          "output_type": "stream",
          "name": "stdout",
          "text": [
            "Drive already mounted at /content/gdrive; to attempt to forcibly remount, call drive.mount(\"/content/gdrive\", force_remount=True).\n"
          ]
        }
      ]
    },
    {
      "cell_type": "code",
      "source": [
        "# helper functions\n",
        "\n",
        "def get_model_name(name, batch_size, learning_rate, epoch):\n",
        "    path = \"/content/gdrive/MyDrive/Project/modelCheckPoints/model_{0}_bs{1}_lr{2}_epoch{3}\".format(name,\n",
        "                                                   batch_size,\n",
        "                                                   learning_rate,\n",
        "                                                   epoch)\n",
        "    return path\n",
        "\n",
        "def evaluate(net, loader, criterion):\n",
        "    total_loss = 0.0\n",
        "    total_corr = 0.0\n",
        "    total_epoch = 0\n",
        "    for i, data in enumerate(loader, 0):\n",
        "        inputs, labels = data\n",
        "        outputs = net(inputs)\n",
        "\n",
        "        loss = criterion(outputs, labels)\n",
        "        total_loss += loss.item()\n",
        "\n",
        "        pred = outputs.max(1, keepdim=True)[1]\n",
        "        total_corr += pred.eq(labels.view_as(pred)).sum().item()\n",
        "        \n",
        "        total_epoch += len(labels)\n",
        "    acc = float(total_corr) / total_epoch\n",
        "    loss = float(total_loss) / (i + 1)\n",
        "    return acc, loss\n",
        "\n",
        "# Training Curve\n",
        "def plot_training_curve(path, doValidation=True):\n",
        "    import matplotlib.pyplot as plt\n",
        "    train_acc = np.loadtxt(\"{}_train_acc.csv\".format(path))\n",
        "    val_acc = np.loadtxt(\"{}_val_acc.csv\".format(path))\n",
        "    train_loss = np.loadtxt(\"{}_train_loss.csv\".format(path))\n",
        "    val_loss = np.loadtxt(\"{}_val_loss.csv\".format(path))\n",
        "    plt.title(\"Train vs Validation Accuracy\")\n",
        "    n = len(train_acc) # number of epochs\n",
        "    plt.plot(range(1,n+1), train_acc, label=\"Train\")\n",
        "    if doValidation:\n",
        "        plt.plot(range(1,n+1), val_acc, label=\"Validation\")\n",
        "    plt.xlabel(\"Epoch\")\n",
        "    plt.ylabel(\"Accuracy\")\n",
        "    plt.legend(loc='best')\n",
        "    plt.show()\n",
        "    plt.title(\"Train vs Validation Loss\")\n",
        "    plt.plot(range(1,n+1), train_loss, label=\"Train\")\n",
        "    if doValidation:\n",
        "        plt.plot(range(1,n+1), val_loss, label=\"Validation\")\n",
        "    plt.xlabel(\"Epoch\")\n",
        "    plt.ylabel(\"Loss\")\n",
        "    plt.legend(loc='best')\n",
        "    plt.show()"
      ],
      "metadata": {
        "id": "HJOZGWpeJfsG"
      },
      "execution_count": null,
      "outputs": []
    },
    {
      "cell_type": "code",
      "source": [
        "def train(model, train_loader, val_loader, batch_size=64, learning_rate=0.01, num_epochs=24, doValidation=True):\n",
        "    torch.manual_seed(1000)\n",
        "\n",
        "    criterion = nn.CrossEntropyLoss()\n",
        "    #optimizer = optim.SGD(model.parameters(), lr=learning_rate, momentum=0.9)\n",
        "    optimizer = optim.Adam(model.parameters(), lr=learning_rate)\n",
        "\n",
        "    # arrays for keeping track of things\n",
        "    train_acc = np.zeros(num_epochs)\n",
        "    train_loss = np.zeros(num_epochs)\n",
        "    val_acc = np.zeros(num_epochs)\n",
        "    val_loss = np.zeros(num_epochs)\n",
        "\n",
        "    # training\n",
        "    start_time = time.time()\n",
        "    for epoch in range(num_epochs):\n",
        "        total_train_loss = 0.0\n",
        "        total_train_corr = 0.0\n",
        "        total_epoch = 0\n",
        "\n",
        "        i = 0\n",
        "        for imgs, labels in train_loader: # this for loop takes a long time to load all images in first iteration\n",
        "            #imgs, labels = data\n",
        "            #print(i)\n",
        "            # gradient descent\n",
        "            out = model(imgs)             # forward pass\n",
        "            loss = criterion(out, labels) # compute the total loss\n",
        "            loss.backward()               # backward pass (compute parameter updates)\n",
        "            optimizer.step()              # make the updates for each parameter\n",
        "            optimizer.zero_grad()         # a clean up step for PyTorch\n",
        "\n",
        "            # Calculate the statistics\n",
        "            total_train_loss += loss.item()\n",
        "            pred = out.max(1, keepdim=True)[1]\n",
        "            total_train_corr += pred.eq(labels.view_as(pred)).sum().item()\n",
        "            total_epoch += len(labels)\n",
        "            i+=1\n",
        "            \n",
        "        train_acc[epoch] = float(total_train_corr) / total_epoch\n",
        "        train_loss[epoch] = float(total_train_loss) / (i+1)\n",
        "        if doValidation:\n",
        "            val_acc[epoch], val_loss[epoch] = evaluate(model, val_loader, criterion)\n",
        "        print((\"Epoch {}: Train acc: {}, Train loss: {} | \"+\n",
        "               \"Validation Accuracy: {}, Validation loss: {}\").format(\n",
        "                   epoch + 1,\n",
        "                   train_acc[epoch],\n",
        "                   train_loss[epoch],\n",
        "                   val_acc[epoch],\n",
        "                   val_loss[epoch]))\n",
        "        \n",
        "        # Save the current model (checkpoint) to a file\n",
        "        model_path = get_model_name(model.name, batch_size, learning_rate, epoch)\n",
        "        torch.save(model.state_dict(), model_path)\n",
        "  \n",
        "    print('Finished Training')\n",
        "    end_time = time.time()\n",
        "    elapsed_time = end_time - start_time\n",
        "    print(\"Total time elapsed: {:.2f} seconds\".format(elapsed_time))\n",
        "    \n",
        "    epochs = np.arange(1, num_epochs + 1)\n",
        "    np.savetxt(\"{}_train_acc.csv\".format(model_path), train_acc)\n",
        "    np.savetxt(\"{}_train_loss.csv\".format(model_path), train_loss)\n",
        "    np.savetxt(\"{}_val_acc.csv\".format(model_path), val_acc)\n",
        "    np.savetxt(\"{}_val_loss.csv\".format(model_path), val_loss)"
      ],
      "metadata": {
        "id": "f4Ic1hh0Kd-0"
      },
      "execution_count": null,
      "outputs": []
    },
    {
      "cell_type": "code",
      "source": [
        "class mainClassifier(nn.Module):\n",
        "    def __init__(self):\n",
        "        super(mainClassifier, self).__init__()\n",
        "        self.name = \"mainClassifier3Layer\"\n",
        "        self.fc1 = nn.Linear(1024, 500)\n",
        "        self.fc2 = nn.Linear(500, 180)\n",
        "        self.fc3 = nn.Linear(180, 18)\n",
        "\n",
        "    def forward(self, x):\n",
        "        flattened = x.view(-1, 1024)\n",
        "        x = F.relu(self.fc1(flattened))\n",
        "        x = F.relu(self.fc2(x))\n",
        "        x = self.fc3(x)\n",
        "        return x"
      ],
      "metadata": {
        "id": "fD_HkQ9LJjn2"
      },
      "execution_count": null,
      "outputs": []
    },
    {
      "cell_type": "code",
      "source": [
        "# reducing to 2 layer doesn't help\n",
        "class smallClassifier(nn.Module):\n",
        "    def __init__(self):\n",
        "        super(smallClassifier, self).__init__()\n",
        "        self.name = \"smallClassifier2Layer\"\n",
        "        self.fc1 = nn.Linear(1024, 500)\n",
        "        self.fc2 = nn.Linear(500, 18)\n",
        "\n",
        "    def forward(self, x):\n",
        "        flattened = x.view(-1, 1024)\n",
        "        x = F.relu(self.fc1(flattened))\n",
        "        x = self.fc2(x)\n",
        "        return x"
      ],
      "metadata": {
        "id": "smaOcCEmB_ZI"
      },
      "execution_count": null,
      "outputs": []
    },
    {
      "cell_type": "markdown",
      "source": [
        "## Overfitting a small data set\n",
        "Sanity check with a small dataset containting 3 entry per category"
      ],
      "metadata": {
        "id": "CFJXmVOgR5K5"
      }
    },
    {
      "cell_type": "code",
      "source": [
        "torch.manual_seed(0)\n",
        "\n",
        "# these are prerequisite for using googleNet, according to https://pytorch.org/hub/pytorch_vision_googlenet/\n",
        "# challenge 1 (image small)\n",
        "transform = transforms.Compose([\n",
        "    transforms.Resize(256),\n",
        "    transforms.CenterCrop(224),\n",
        "    transforms.ToTensor(),\n",
        "    transforms.Normalize(mean=[0.485, 0.456, 0.406], std=[0.229, 0.224, 0.225]),\n",
        "])\n",
        "\n",
        "smallSet = torchvision.datasets.ImageFolder(root='/content/gdrive/MyDrive/Project/smallDataSet', transform=transform)"
      ],
      "metadata": {
        "id": "ZV3OcsB6SEBL"
      },
      "execution_count": null,
      "outputs": []
    },
    {
      "cell_type": "code",
      "source": [
        "small_loader = torch.utils.data.DataLoader(smallSet, batch_size=1)\n",
        "print(len(small_loader))\n",
        "\n",
        "# There are 3 * 18 = 54 images in small data set "
      ],
      "metadata": {
        "colab": {
          "base_uri": "https://localhost:8080/"
        },
        "id": "hc_WbRxvcX0S",
        "outputId": "172c705c-1709-4f84-d88a-c8d32b97456d"
      },
      "execution_count": null,
      "outputs": [
        {
          "output_type": "stream",
          "name": "stdout",
          "text": [
            "54\n"
          ]
        }
      ]
    },
    {
      "cell_type": "code",
      "source": [
        "# visualize dataset\n",
        "\"\"\"\n",
        "import matplotlib.pyplot as plt\n",
        "\n",
        "k = 0\n",
        "for images, labels in small_loader:\n",
        "    image = images[0]\n",
        "    print(image.shape)\n",
        "    img = np.transpose(image, [1,2,0])\n",
        "\n",
        "    img = img / 2 + 0.5\n",
        "    plt.subplot(3, 5, k+1)\n",
        "    plt.axis('off')\n",
        "    plt.imshow(img)\n",
        "    #print(labels[0])\n",
        "\n",
        "    k += 1\n",
        "    if k > 14:\n",
        "        break\n",
        "\"\"\""
      ],
      "metadata": {
        "id": "9Rijl1MtcWlF"
      },
      "execution_count": null,
      "outputs": []
    },
    {
      "cell_type": "code",
      "source": [
        "# extract embedding for the small data set\n",
        "small_loader = torch.utils.data.DataLoader(smallSet, batch_size=54)\n",
        "# Saving the computed features\n",
        "smallSetEmbedding = []\n",
        "\n",
        "\n",
        "for imgs, labels in small_loader:\n",
        "    oneEmbedding = torch.zeros(54, 1024)\n",
        "    print(oneEmbedding.shape)\n",
        "    # Define a function that will copy the output of a layer\n",
        "    \n",
        "    # Attach that function to our selected layer\n",
        "    h = googleNetFeatureLayer.register_forward_hook(copy_data)\n",
        "    googelNet(imgs)\n",
        "    h.remove()\n",
        "\n",
        "    oneEmbedding = torch.from_numpy(oneEmbedding.detach().numpy())\n",
        "    smallSetEmbedding.append([oneEmbedding, labels])\n",
        "\n",
        "#torch.save(smallSetEmbedding, '/content/gdrive/MyDrive/Project/smallDataSet/smallSetEmbedding')\n",
        "\n",
        "#alexTrain is a list of pyTorch tensor + label"
      ],
      "metadata": {
        "id": "YEJk7lc8hYnx",
        "colab": {
          "base_uri": "https://localhost:8080/"
        },
        "outputId": "34b16bea-9691-420e-b2fa-21a69ee7e4c4"
      },
      "execution_count": null,
      "outputs": [
        {
          "output_type": "stream",
          "name": "stderr",
          "text": [
            "/usr/local/lib/python3.7/dist-packages/PIL/Image.py:960: UserWarning: Palette images with Transparency expressed in bytes should be converted to RGBA images\n",
            "  \"Palette images with Transparency expressed in bytes should be \"\n"
          ]
        },
        {
          "output_type": "stream",
          "name": "stdout",
          "text": [
            "torch.Size([54, 1024])\n"
          ]
        }
      ]
    },
    {
      "cell_type": "code",
      "source": [
        "for imgs, labels in smallSetEmbedding:\n",
        "    print(len(labels), \"\\n\", labels)\n",
        "    print(imgs.shape, \"\\n\", imgs)"
      ],
      "metadata": {
        "colab": {
          "base_uri": "https://localhost:8080/"
        },
        "id": "CAISWRgtnOLS",
        "outputId": "1300b0c2-0193-468c-9975-18bbc9c99041"
      },
      "execution_count": null,
      "outputs": [
        {
          "output_type": "stream",
          "name": "stdout",
          "text": [
            "54 \n",
            " tensor([ 0,  0,  0,  1,  1,  1,  2,  2,  2,  3,  3,  3,  4,  4,  4,  5,  5,  5,\n",
            "         6,  6,  6,  7,  7,  7,  8,  8,  8,  9,  9,  9, 10, 10, 10, 11, 11, 11,\n",
            "        12, 12, 12, 13, 13, 13, 14, 14, 14, 15, 15, 15, 16, 16, 16, 17, 17, 17])\n",
            "torch.Size([54, 1024]) \n",
            " tensor([[0.5448, 0.0310, 0.5322,  ..., 0.4206, 0.0842, 0.1183],\n",
            "        [0.4397, 0.0426, 0.0021,  ..., 0.5649, 0.2392, 0.0336],\n",
            "        [0.1284, 0.0569, 0.0060,  ..., 0.5222, 0.2627, 0.2451],\n",
            "        ...,\n",
            "        [0.9123, 0.0289, 0.0044,  ..., 0.3866, 0.5468, 0.0928],\n",
            "        [0.6563, 0.0276, 0.0501,  ..., 0.4558, 0.7915, 0.0168],\n",
            "        [0.0924, 0.0562, 0.0000,  ..., 0.9281, 0.0981, 0.0407]])\n"
          ]
        }
      ]
    },
    {
      "cell_type": "code",
      "source": [
        "smallSetEmbedding = torch.load('/content/gdrive/MyDrive/Project/smallDataSet/smallSetEmbedding')\n",
        "\n",
        "classifier = mainClassifier()\n",
        "train(classifier, train_loader=smallSetEmbedding, val_loader=[], batch_size = 54, learning_rate=0.005, num_epochs = 200)"
      ],
      "metadata": {
        "id": "yshv0dK43rYq"
      },
      "execution_count": null,
      "outputs": []
    },
    {
      "cell_type": "code",
      "source": [
        "model_path = get_model_name(\"mainClassifier3Layer\", batch_size = 54, epoch = 199, learning_rate=0.005)\n",
        "plot_training_curve(model_path, doValidation=False)"
      ],
      "metadata": {
        "colab": {
          "base_uri": "https://localhost:8080/",
          "height": 573
        },
        "id": "DKg8aYdL61Xb",
        "outputId": "9d33a8be-5dc6-46ef-9407-c74d9b7c21ab"
      },
      "execution_count": null,
      "outputs": [
        {
          "output_type": "display_data",
          "data": {
            "text/plain": [
              "<Figure size 432x288 with 1 Axes>"
            ],
            "image/png": "[encoded data removed]"
          },
          "metadata": {
            "needs_background": "light"
          }
        },
        {
          "output_type": "display_data",
          "data": {
            "text/plain": [
              "<Figure size 432x288 with 1 Axes>"
            ],
            "image/png": "[encoded data removed]"
          },
          "metadata": {
            "needs_background": "light"
          }
        }
      ]
    },
    {
      "cell_type": "markdown",
      "source": [
        "## Initial testing"
      ],
      "metadata": {
        "id": "rVjBseoStnyw"
      }
    },
    {
      "cell_type": "code",
      "source": [
        "import torch\n",
        "googelNet = torch.hub.load('pytorch/vision:v0.10.0', 'googlenet', pretrained=True)\n",
        "googelNet.eval() # needed so we don't dropout when extracting feature\n",
        "# from .eval, we see that our fc layer should have input dimension = 1024 (challenge 2)\n",
        "\n",
        "# from https://becominghuman.ai/extract-a-feature-vector-for-any-image-with-pytorch-9717561d1d4c\n",
        "googleNetFeatureLayer = googelNet._modules.get('dropout')"
      ],
      "metadata": {
        "id": "tuLfV3_Oc_lc",
        "colab": {
          "base_uri": "https://localhost:8080/",
          "height": 173,
          "referenced_widgets": [
            "794301fd94fd465290f0cb16ee6d4bfb",
            "ad09362f1737470e90edc30c93c1741d",
            "49155c34bb6b49f3a4eb27bd2b3b943f",
            "4766556fae894493aad15128b47309bb",
            "41c1de24fb804344a1d99916b7d27377",
            "d7e749bef58b4d88810e099243360b52",
            "3185a29ee63c4b38a1ffcaba1c33f4cb",
            "ee32bbfe2cb04ba59cc68a1f2220be6b",
            "c515ca0ff7bd4550b0d67b55b77a8e53",
            "ae622211c52f4a699311359bb3ab86a1",
            "8b61fca94a9c4a339a5a83fc85f80d36"
          ]
        },
        "outputId": "d057905b-678f-45b5-b7e4-4ebe42577ef7"
      },
      "execution_count": null,
      "outputs": [
        {
          "output_type": "stream",
          "name": "stderr",
          "text": [
            "Downloading: \"https://github.com/pytorch/vision/zipball/v0.10.0\" to /root/.cache/torch/hub/v0.10.0.zip\n",
            "/usr/local/lib/python3.7/dist-packages/torchvision/models/_utils.py:209: UserWarning: The parameter 'pretrained' is deprecated since 0.13 and will be removed in 0.15, please use 'weights' instead.\n",
            "  f\"The parameter '{pretrained_param}' is deprecated since 0.13 and will be removed in 0.15, \"\n",
            "/usr/local/lib/python3.7/dist-packages/torchvision/models/_utils.py:223: UserWarning: Arguments other than a weight enum or `None` for 'weights' are deprecated since 0.13 and will be removed in 0.15. The current behavior is equivalent to passing `weights=GoogLeNet_Weights.IMAGENET1K_V1`. You can also use `weights=GoogLeNet_Weights.DEFAULT` to get the most up-to-date weights.\n",
            "  warnings.warn(msg)\n",
            "Downloading: \"https://download.pytorch.org/models/googlenet-1378be20.pth\" to /root/.cache/torch/hub/checkpoints/googlenet-1378be20.pth\n"
          ]
        },
        {
          "output_type": "display_data",
          "data": {
            "text/plain": [
              "  0%|          | 0.00/49.7M [00:00<?, ?B/s]"
            ],
            "application/vnd.jupyter.widget-view+json": {
              "version_major": 2,
              "version_minor": 0,
              "model_id": "794301fd94fd465290f0cb16ee6d4bfb"
            }
          },
          "metadata": {}
        }
      ]
    },
    {
      "cell_type": "code",
      "source": [
        "def loaderToEmbedding(loader, name):\n",
        "    loaderEmbedding = []\n",
        "    for imgs, labels in loader:\n",
        "        #embedding = torch.zeros(1024)\n",
        "        # Define a function that will copy the output of a layer (must re-import GoogleNet if this is updated, even just for diff batch size)\n",
        "        def copy_data(m, i, o):\n",
        "            embedding = o.data.detach().clone()\n",
        "            loaderEmbedding.append([embedding, labels])\n",
        "        # Attach that function to our selected layer\n",
        "        h = googleNetFeatureLayer.register_forward_hook(copy_data)\n",
        "        googelNet(imgs)\n",
        "        h.remove()\n",
        "\n",
        "        #print(loaderEmbedding)\n",
        "\n",
        "    torch.save(loaderEmbedding, '/content/gdrive/MyDrive/Project/embeddings/' + name)"
      ],
      "metadata": {
        "id": "VcSElP9ouWhu"
      },
      "execution_count": null,
      "outputs": []
    },
    {
      "cell_type": "code",
      "source": [
        "train_loader, val_loader, test_loader = get_data_loader(64)"
      ],
      "metadata": {
        "id": "7nWKFunUu1DV"
      },
      "execution_count": null,
      "outputs": []
    },
    {
      "cell_type": "code",
      "source": [
        "loaderToEmbedding(train_loader, \"train64\")"
      ],
      "metadata": {
        "id": "paX07J4N2zkE",
        "colab": {
          "base_uri": "https://localhost:8080/"
        },
        "outputId": "f8fe8b70-cc4d-4f3f-d816-2b53248aa603"
      },
      "execution_count": null,
      "outputs": [
        {
          "output_type": "stream",
          "name": "stderr",
          "text": [
            "/usr/local/lib/python3.7/dist-packages/PIL/Image.py:960: UserWarning: Palette images with Transparency expressed in bytes should be converted to RGBA images\n",
            "  \"Palette images with Transparency expressed in bytes should be \"\n"
          ]
        }
      ]
    },
    {
      "cell_type": "code",
      "source": [
        "trainEmedding = torch.load('/content/gdrive/MyDrive/Project/embeddings/' + \"train64\")\n",
        "\n",
        "\n",
        "for imgs, labels in trainEmedding:\n",
        "    print(labels.shape, \"\\n\", labels)\n",
        "    print(imgs.shape, \"\\n\", imgs)"
      ],
      "metadata": {
        "id": "2aI-7Atf4-Oy"
      },
      "execution_count": null,
      "outputs": []
    },
    {
      "cell_type": "code",
      "source": [
        "loaderToEmbedding(val_loader, \"val64\")"
      ],
      "metadata": {
        "colab": {
          "base_uri": "https://localhost:8080/"
        },
        "id": "b-q9cn2p-flk",
        "outputId": "d87800d8-39ab-45d0-f7bf-5997723b8160"
      },
      "execution_count": null,
      "outputs": [
        {
          "output_type": "stream",
          "name": "stderr",
          "text": [
            "/usr/local/lib/python3.7/dist-packages/PIL/Image.py:960: UserWarning: Palette images with Transparency expressed in bytes should be converted to RGBA images\n",
            "  \"Palette images with Transparency expressed in bytes should be \"\n"
          ]
        }
      ]
    },
    {
      "cell_type": "code",
      "source": [
        "loaderToEmbedding(test_loader, \"test64\")"
      ],
      "metadata": {
        "colab": {
          "base_uri": "https://localhost:8080/"
        },
        "id": "hRCKZeGr6yOK",
        "outputId": "e614e2a4-f328-4703-8181-e88ed7abd6bb"
      },
      "execution_count": null,
      "outputs": [
        {
          "output_type": "stream",
          "name": "stderr",
          "text": [
            "/usr/local/lib/python3.7/dist-packages/PIL/Image.py:960: UserWarning: Palette images with Transparency expressed in bytes should be converted to RGBA images\n",
            "  \"Palette images with Transparency expressed in bytes should be \"\n"
          ]
        }
      ]
    },
    {
      "cell_type": "code",
      "source": [
        "trainEmedding = torch.load('/content/gdrive/MyDrive/Project/embeddings/' + \"train64\")\n",
        "valEmedding = torch.load('/content/gdrive/MyDrive/Project/embeddings/' + \"val64\")\n",
        "\n",
        "classifier = mainClassifier()\n",
        "train(classifier, train_loader=trainEmedding, val_loader=valEmedding, batch_size = 64, learning_rate=0.0008 , num_epochs = 200)"
      ],
      "metadata": {
        "id": "gxZx_r6L7aas",
        "colab": {
          "base_uri": "https://localhost:8080/",
          "height": 1000
        },
        "outputId": "3f8eb616-7226-437c-e5f2-22147a369b9b"
      },
      "execution_count": null,
      "outputs": [
        {
          "output_type": "stream",
          "name": "stdout",
          "text": [
            "Epoch 1: Train acc: 0.153639846743295, Train loss: 2.6241763886951266 | Validation Accuracy: 0.16717791411042945, Validation loss: 2.653122728521174\n",
            "Epoch 2: Train acc: 0.22413793103448276, Train loss: 2.4519626640138172 | Validation Accuracy: 0.21932515337423314, Validation loss: 2.501238562844016\n",
            "Epoch 3: Train acc: 0.28084291187739463, Train loss: 2.2696093037014915 | Validation Accuracy: 0.2837423312883436, Validation loss: 2.3660077398473565\n",
            "Epoch 4: Train acc: 0.32298850574712645, Train loss: 2.125576655069987 | Validation Accuracy: 0.294478527607362, Validation loss: 2.3220049901442095\n",
            "Epoch 5: Train acc: 0.36053639846743296, Train loss: 1.9980024553480602 | Validation Accuracy: 0.3174846625766871, Validation loss: 2.305973627350547\n",
            "Epoch 6: Train acc: 0.3988505747126437, Train loss: 1.8810812518710183 | Validation Accuracy: 0.3282208588957055, Validation loss: 2.2752188335765493\n",
            "Epoch 7: Train acc: 0.43908045977011495, Train loss: 1.768042606966836 | Validation Accuracy: 0.3389570552147239, Validation loss: 2.252980416471308\n",
            "Epoch 8: Train acc: 0.4697318007662835, Train loss: 1.6605602587972368 | Validation Accuracy: 0.3343558282208589, Validation loss: 2.2434989430687646\n",
            "Epoch 9: Train acc: 0.49808429118773945, Train loss: 1.5590165427752904 | Validation Accuracy: 0.3282208588957055, Validation loss: 2.2359921390360054\n",
            "Epoch 10: Train acc: 0.5310344827586206, Train loss: 1.4607027627172924 | Validation Accuracy: 0.3389570552147239, Validation loss: 2.2508198131214487\n",
            "Epoch 11: Train acc: 0.5666666666666667, Train loss: 1.3688860081491017 | Validation Accuracy: 0.3343558282208589, Validation loss: 2.274627837267789\n",
            "Epoch 12: Train acc: 0.5954022988505747, Train loss: 1.2803157369295757 | Validation Accuracy: 0.33588957055214724, Validation loss: 2.308748310262507\n",
            "Epoch 13: Train acc: 0.6218390804597701, Train loss: 1.1951394478480022 | Validation Accuracy: 0.348159509202454, Validation loss: 2.330551407553933\n",
            "Epoch 14: Train acc: 0.6482758620689655, Train loss: 1.1120285604681288 | Validation Accuracy: 0.34049079754601225, Validation loss: 2.3697081262415107\n",
            "Epoch 15: Train acc: 0.6758620689655173, Train loss: 1.0340003144173395 | Validation Accuracy: 0.3343558282208589, Validation loss: 2.406694520603527\n",
            "Epoch 16: Train acc: 0.7034482758620689, Train loss: 0.955849765312104 | Validation Accuracy: 0.3328220858895706, Validation loss: 2.458605722947554\n",
            "Epoch 17: Train acc: 0.7348659003831418, Train loss: 0.8768373642648969 | Validation Accuracy: 0.3343558282208589, Validation loss: 2.4963277253237637\n",
            "Epoch 18: Train acc: 0.7559386973180077, Train loss: 0.8031113843123118 | Validation Accuracy: 0.33588957055214724, Validation loss: 2.542815230109475\n",
            "Epoch 19: Train acc: 0.775095785440613, Train loss: 0.7378290707156772 | Validation Accuracy: 0.3266871165644172, Validation loss: 2.602749239314686\n",
            "Epoch 20: Train acc: 0.7931034482758621, Train loss: 0.6894744237263998 | Validation Accuracy: 0.33588957055214724, Validation loss: 2.6973688168959185\n",
            "Epoch 21: Train acc: 0.8084291187739464, Train loss: 0.6504137217998505 | Validation Accuracy: 0.3113496932515337, Validation loss: 2.7976556691256436\n",
            "Epoch 22: Train acc: 0.8045977011494253, Train loss: 0.6329441311813536 | Validation Accuracy: 0.3067484662576687, Validation loss: 2.7935890501195733\n",
            "Epoch 23: Train acc: 0.835632183908046, Train loss: 0.577031039765903 | Validation Accuracy: 0.2898773006134969, Validation loss: 3.041029865091497\n",
            "Epoch 24: Train acc: 0.8593869731800766, Train loss: 0.5062733349345979 | Validation Accuracy: 0.3174846625766871, Validation loss: 2.9972540465268223\n",
            "Epoch 25: Train acc: 0.8720306513409962, Train loss: 0.4609209714191301 | Validation Accuracy: 0.3174846625766871, Validation loss: 3.031385378404097\n",
            "Epoch 26: Train acc: 0.8716475095785441, Train loss: 0.4523812234401703 | Validation Accuracy: 0.3128834355828221, Validation loss: 3.0760379054329614\n",
            "Epoch 27: Train acc: 0.8632183908045977, Train loss: 0.45673453382083345 | Validation Accuracy: 0.31901840490797545, Validation loss: 2.9527738744562324\n",
            "Epoch 28: Train acc: 0.8555555555555555, Train loss: 0.46224936346213025 | Validation Accuracy: 0.3558282208588957, Validation loss: 2.9530023444782603\n",
            "Epoch 29: Train acc: 0.8521072796934865, Train loss: 0.4695716287408556 | Validation Accuracy: 0.3312883435582822, Validation loss: 3.204082120548595\n",
            "Epoch 30: Train acc: 0.8517241379310345, Train loss: 0.4707417715163458 | Validation Accuracy: 0.34662576687116564, Validation loss: 3.002843835137107\n",
            "Epoch 31: Train acc: 0.9080459770114943, Train loss: 0.3258333369379952 | Validation Accuracy: 0.37116564417177916, Validation loss: 3.067948969927701\n",
            "Epoch 32: Train acc: 0.9210727969348659, Train loss: 0.2932937131041572 | Validation Accuracy: 0.3696319018404908, Validation loss: 3.1120931668715044\n",
            "Epoch 33: Train acc: 0.9233716475095786, Train loss: 0.2720481629172961 | Validation Accuracy: 0.36503067484662577, Validation loss: 3.0857350826263428\n",
            "Epoch 34: Train acc: 0.9371647509578545, Train loss: 0.23658928381545202 | Validation Accuracy: 0.3374233128834356, Validation loss: 3.247987888076089\n",
            "Epoch 35: Train acc: 0.9521072796934866, Train loss: 0.21070159173437528 | Validation Accuracy: 0.3220858895705521, Validation loss: 3.4519818370992486\n",
            "Epoch 36: Train acc: 0.9563218390804598, Train loss: 0.18810797145678884 | Validation Accuracy: 0.3619631901840491, Validation loss: 3.324803959239613\n",
            "Epoch 37: Train acc: 0.9670498084291188, Train loss: 0.18177016789004916 | Validation Accuracy: 0.3588957055214724, Validation loss: 3.294898184863004\n",
            "Epoch 38: Train acc: 0.9578544061302682, Train loss: 0.1858736446925572 | Validation Accuracy: 0.35276073619631904, Validation loss: 3.505450053648515\n",
            "Epoch 39: Train acc: 0.9482758620689655, Train loss: 0.19271139924724898 | Validation Accuracy: 0.3389570552147239, Validation loss: 3.5241563536904077\n",
            "Epoch 40: Train acc: 0.9567049808429119, Train loss: 0.17205098324588367 | Validation Accuracy: 0.3558282208588957, Validation loss: 3.5440142154693604\n",
            "Epoch 41: Train acc: 0.9720306513409962, Train loss: 0.15537532631840026 | Validation Accuracy: 0.3343558282208589, Validation loss: 3.7675714059309526\n",
            "Epoch 42: Train acc: 0.9647509578544061, Train loss: 0.1628333433043389 | Validation Accuracy: 0.3312883435582822, Validation loss: 3.917814709923484\n",
            "Epoch 43: Train acc: 0.953639846743295, Train loss: 0.17550160416534968 | Validation Accuracy: 0.3312883435582822, Validation loss: 4.0050716616890645\n",
            "Epoch 44: Train acc: 0.9348659003831418, Train loss: 0.21439986862242222 | Validation Accuracy: 0.34202453987730064, Validation loss: 3.8091293465007436\n",
            "Epoch 45: Train acc: 0.9344827586206896, Train loss: 0.21631385208595366 | Validation Accuracy: 0.3374233128834356, Validation loss: 3.721394018693404\n",
            "Epoch 46: Train acc: 0.960919540229885, Train loss: 0.14344669674478827 | Validation Accuracy: 0.3496932515337423, Validation loss: 3.6499952402981846\n",
            "Epoch 47: Train acc: 0.9758620689655172, Train loss: 0.11456269460419814 | Validation Accuracy: 0.36503067484662577, Validation loss: 3.629266760566018\n",
            "Epoch 48: Train acc: 0.9862068965517241, Train loss: 0.09265647012562979 | Validation Accuracy: 0.3619631901840491, Validation loss: 3.8595096414739434\n",
            "Epoch 49: Train acc: 0.9869731800766284, Train loss: 0.08455121845361732 | Validation Accuracy: 0.3512269938650307, Validation loss: 3.9482675899158823\n",
            "Epoch 50: Train acc: 0.9869731800766284, Train loss: 0.08049474692060835 | Validation Accuracy: 0.33588957055214724, Validation loss: 4.153925852342085\n",
            "Epoch 51: Train acc: 0.9911877394636015, Train loss: 0.07387936407966274 | Validation Accuracy: 0.34202453987730064, Validation loss: 4.055965401909568\n",
            "Epoch 52: Train acc: 0.9869731800766284, Train loss: 0.07733307246650968 | Validation Accuracy: 0.3496932515337423, Validation loss: 4.155442151156339\n",
            "Epoch 53: Train acc: 0.9842911877394636, Train loss: 0.08428612825948567 | Validation Accuracy: 0.35736196319018404, Validation loss: 3.958565495230935\n",
            "Epoch 54: Train acc: 0.9704980842911878, Train loss: 0.10544702122431426 | Validation Accuracy: 0.3619631901840491, Validation loss: 3.924137007106434\n",
            "Epoch 55: Train acc: 0.9846743295019157, Train loss: 0.07285118218333948 | Validation Accuracy: 0.34662576687116564, Validation loss: 3.953087026422674\n",
            "Epoch 56: Train acc: 0.9923371647509579, Train loss: 0.05465981364250183 | Validation Accuracy: 0.35736196319018404, Validation loss: 4.276883818886497\n",
            "Epoch 57: Train acc: 0.9896551724137931, Train loss: 0.054756494549413524 | Validation Accuracy: 0.35736196319018404, Validation loss: 4.065636136315086\n",
            "Epoch 58: Train acc: 0.9896551724137931, Train loss: 0.05819277780219203 | Validation Accuracy: 0.35736196319018404, Validation loss: 4.039903077212247\n",
            "Epoch 59: Train acc: 0.9942528735632183, Train loss: 0.043069860010984395 | Validation Accuracy: 0.35736196319018404, Validation loss: 4.186264991760254\n",
            "Epoch 60: Train acc: 0.9969348659003832, Train loss: 0.03829133253367174 | Validation Accuracy: 0.3588957055214724, Validation loss: 4.412778442556208\n",
            "Epoch 61: Train acc: 0.996551724137931, Train loss: 0.03888254657032944 | Validation Accuracy: 0.3558282208588957, Validation loss: 4.396624586798928\n",
            "Epoch 62: Train acc: 0.9954022988505747, Train loss: 0.03989468800968358 | Validation Accuracy: 0.35736196319018404, Validation loss: 4.342878103256226\n",
            "Epoch 63: Train acc: 0.9934865900383142, Train loss: 0.04088212146113316 | Validation Accuracy: 0.3696319018404908, Validation loss: 4.295748645609075\n",
            "Epoch 64: Train acc: 0.9923371647509579, Train loss: 0.03883061877318791 | Validation Accuracy: 0.36503067484662577, Validation loss: 4.327409961006858\n",
            "Epoch 65: Train acc: 0.9961685823754789, Train loss: 0.03137094516395813 | Validation Accuracy: 0.33588957055214724, Validation loss: 5.149339025670832\n",
            "Epoch 66: Train acc: 0.9923371647509579, Train loss: 0.03606036595911497 | Validation Accuracy: 0.35429447852760737, Validation loss: 4.268877918070013\n",
            "Epoch 67: Train acc: 0.9957854406130269, Train loss: 0.028180667997470925 | Validation Accuracy: 0.3512269938650307, Validation loss: 4.768685557625511\n",
            "Epoch 68: Train acc: 0.9984674329501916, Train loss: 0.024006854897985857 | Validation Accuracy: 0.35736196319018404, Validation loss: 4.502432086250999\n",
            "Epoch 69: Train acc: 0.9988505747126437, Train loss: 0.01980720635592228 | Validation Accuracy: 0.35276073619631904, Validation loss: 4.31650710105896\n",
            "Epoch 70: Train acc: 0.9992337164750957, Train loss: 0.0119985340695296 | Validation Accuracy: 0.36809815950920244, Validation loss: 4.332194631749934\n",
            "Epoch 71: Train acc: 1.0, Train loss: 0.007577523433913787 | Validation Accuracy: 0.36503067484662577, Validation loss: 4.378058216788552\n",
            "Epoch 72: Train acc: 1.0, Train loss: 0.006686615862972325 | Validation Accuracy: 0.3604294478527607, Validation loss: 4.437697800722989\n",
            "Epoch 73: Train acc: 1.0, Train loss: 0.006216437073557505 | Validation Accuracy: 0.36349693251533743, Validation loss: 4.469881772994995\n",
            "Epoch 74: Train acc: 1.0, Train loss: 0.005698652971269829 | Validation Accuracy: 0.3604294478527607, Validation loss: 4.496866074475375\n",
            "Epoch 75: Train acc: 1.0, Train loss: 0.005344093854849537 | Validation Accuracy: 0.3588957055214724, Validation loss: 4.515977556055242\n",
            "Epoch 76: Train acc: 1.0, Train loss: 0.004995104396671411 | Validation Accuracy: 0.35736196319018404, Validation loss: 4.533577290448275\n",
            "Epoch 77: Train acc: 1.0, Train loss: 0.004704745641599099 | Validation Accuracy: 0.35736196319018404, Validation loss: 4.546729889782992\n",
            "Epoch 78: Train acc: 1.0, Train loss: 0.0044114910443091675 | Validation Accuracy: 0.3619631901840491, Validation loss: 4.559016206047752\n",
            "Epoch 79: Train acc: 1.0, Train loss: 0.004139455118482667 | Validation Accuracy: 0.3665644171779141, Validation loss: 4.572144356640902\n",
            "Epoch 80: Train acc: 1.0, Train loss: 0.0038999527570835893 | Validation Accuracy: 0.3696319018404908, Validation loss: 4.582073905251243\n",
            "Epoch 81: Train acc: 1.0, Train loss: 0.003670149061474062 | Validation Accuracy: 0.36349693251533743, Validation loss: 4.5945143699646\n",
            "Epoch 82: Train acc: 1.0, Train loss: 0.00346294201223091 | Validation Accuracy: 0.36809815950920244, Validation loss: 4.604468562386253\n",
            "Epoch 83: Train acc: 1.0, Train loss: 0.0032728990661867316 | Validation Accuracy: 0.3665644171779141, Validation loss: 4.613767883994362\n",
            "Epoch 84: Train acc: 1.0, Train loss: 0.0030954093949514486 | Validation Accuracy: 0.36809815950920244, Validation loss: 4.622955690730702\n",
            "Epoch 85: Train acc: 1.0, Train loss: 0.0029237249511338418 | Validation Accuracy: 0.3665644171779141, Validation loss: 4.6326446749947285\n",
            "Epoch 86: Train acc: 1.0, Train loss: 0.002767721196592209 | Validation Accuracy: 0.36809815950920244, Validation loss: 4.641845768148249\n",
            "Epoch 87: Train acc: 1.0, Train loss: 0.0026183746078805555 | Validation Accuracy: 0.3696319018404908, Validation loss: 4.6508141647685655\n",
            "Epoch 88: Train acc: 1.0, Train loss: 0.0024836911664654813 | Validation Accuracy: 0.3696319018404908, Validation loss: 4.659883217378096\n",
            "Epoch 89: Train acc: 1.0, Train loss: 0.0023602871168848303 | Validation Accuracy: 0.36809815950920244, Validation loss: 4.668718186291781\n",
            "Epoch 90: Train acc: 1.0, Train loss: 0.0022444138691450157 | Validation Accuracy: 0.3726993865030675, Validation loss: 4.67853045463562\n",
            "Epoch 91: Train acc: 1.0, Train loss: 0.0021387546273347524 | Validation Accuracy: 0.37423312883435583, Validation loss: 4.689287250692194\n",
            "Epoch 92: Train acc: 1.0, Train loss: 0.002040766825389472 | Validation Accuracy: 0.3726993865030675, Validation loss: 4.700872247869318\n",
            "Epoch 93: Train acc: 1.0, Train loss: 0.0019520422709839685 | Validation Accuracy: 0.3726993865030675, Validation loss: 4.712405334819447\n",
            "Epoch 94: Train acc: 1.0, Train loss: 0.0018680712285762031 | Validation Accuracy: 0.3726993865030675, Validation loss: 4.7241833643479785\n",
            "Epoch 95: Train acc: 1.0, Train loss: 0.0017904710728630778 | Validation Accuracy: 0.3726993865030675, Validation loss: 4.736602674831044\n",
            "Epoch 96: Train acc: 1.0, Train loss: 0.001718109772939767 | Validation Accuracy: 0.3726993865030675, Validation loss: 4.748639822006226\n",
            "Epoch 97: Train acc: 1.0, Train loss: 0.0016521136276423931 | Validation Accuracy: 0.3726993865030675, Validation loss: 4.760502880269831\n",
            "Epoch 98: Train acc: 1.0, Train loss: 0.0015913664967575599 | Validation Accuracy: 0.3726993865030675, Validation loss: 4.77294000712308\n",
            "Epoch 99: Train acc: 1.0, Train loss: 0.001535703879891939 | Validation Accuracy: 0.3726993865030675, Validation loss: 4.784492471001365\n",
            "Epoch 100: Train acc: 1.0, Train loss: 0.0014836078875565103 | Validation Accuracy: 0.37423312883435583, Validation loss: 4.795852769504894\n",
            "Epoch 101: Train acc: 1.0, Train loss: 0.001435651296993629 | Validation Accuracy: 0.3726993865030675, Validation loss: 4.807468631050804\n",
            "Epoch 102: Train acc: 1.0, Train loss: 0.0013910363916130293 | Validation Accuracy: 0.3726993865030675, Validation loss: 4.818504962054166\n",
            "Epoch 103: Train acc: 1.0, Train loss: 0.0013476484288860644 | Validation Accuracy: 0.37423312883435583, Validation loss: 4.830019625750455\n",
            "Epoch 104: Train acc: 1.0, Train loss: 0.0013073970912955701 | Validation Accuracy: 0.37423312883435583, Validation loss: 4.840955604206432\n",
            "Epoch 105: Train acc: 1.0, Train loss: 0.0012697891201934822 | Validation Accuracy: 0.3726993865030675, Validation loss: 4.8518875512209805\n",
            "Epoch 106: Train acc: 1.0, Train loss: 0.0012333738725698953 | Validation Accuracy: 0.3726993865030675, Validation loss: 4.862828514792702\n",
            "Epoch 107: Train acc: 1.0, Train loss: 0.0011979195059254942 | Validation Accuracy: 0.3726993865030675, Validation loss: 4.874050205404108\n",
            "Epoch 108: Train acc: 1.0, Train loss: 0.0011648551943445845 | Validation Accuracy: 0.3726993865030675, Validation loss: 4.8847691145810215\n",
            "Epoch 109: Train acc: 1.0, Train loss: 0.0011325263199285559 | Validation Accuracy: 0.37116564417177916, Validation loss: 4.895525043660944\n",
            "Epoch 110: Train acc: 1.0, Train loss: 0.0011009886497742542 | Validation Accuracy: 0.3726993865030675, Validation loss: 4.9067373059012676\n",
            "Epoch 111: Train acc: 1.0, Train loss: 0.0010708638167540943 | Validation Accuracy: 0.37116564417177916, Validation loss: 4.917036338285967\n",
            "Epoch 112: Train acc: 1.0, Train loss: 0.0010423790635762824 | Validation Accuracy: 0.37116564417177916, Validation loss: 4.927636168219826\n",
            "Epoch 113: Train acc: 1.0, Train loss: 0.0010141093461286453 | Validation Accuracy: 0.3726993865030675, Validation loss: 4.938654379411177\n",
            "Epoch 114: Train acc: 1.0, Train loss: 0.0009871519148527156 | Validation Accuracy: 0.37423312883435583, Validation loss: 4.948712587356567\n",
            "Epoch 115: Train acc: 1.0, Train loss: 0.0009618114868533753 | Validation Accuracy: 0.37576687116564417, Validation loss: 4.959097753871571\n",
            "Epoch 116: Train acc: 1.0, Train loss: 0.000936393131269142 | Validation Accuracy: 0.37576687116564417, Validation loss: 4.969950004057451\n",
            "Epoch 117: Train acc: 1.0, Train loss: 0.0009126340183207677 | Validation Accuracy: 0.37576687116564417, Validation loss: 4.98006814176386\n",
            "Epoch 118: Train acc: 1.0, Train loss: 0.0008891785913701391 | Validation Accuracy: 0.37576687116564417, Validation loss: 4.990217100490224\n",
            "Epoch 119: Train acc: 1.0, Train loss: 0.0008668594763592063 | Validation Accuracy: 0.3773006134969325, Validation loss: 5.0002267794175586\n",
            "Epoch 120: Train acc: 1.0, Train loss: 0.0008443314221776312 | Validation Accuracy: 0.3773006134969325, Validation loss: 5.010936672037298\n",
            "Epoch 121: Train acc: 1.0, Train loss: 0.0008226529171224684 | Validation Accuracy: 0.3773006134969325, Validation loss: 5.021191748705777\n",
            "Epoch 122: Train acc: 1.0, Train loss: 0.0008020579296585527 | Validation Accuracy: 0.3773006134969325, Validation loss: 5.031931183554909\n",
            "Epoch 123: Train acc: 1.0, Train loss: 0.0007822168907815856 | Validation Accuracy: 0.37883435582822084, Validation loss: 5.0422259027307685\n",
            "Epoch 124: Train acc: 1.0, Train loss: 0.0007623317429707164 | Validation Accuracy: 0.37883435582822084, Validation loss: 5.052696986631914\n",
            "Epoch 125: Train acc: 1.0, Train loss: 0.0007432799292950048 | Validation Accuracy: 0.37883435582822084, Validation loss: 5.063202186064287\n",
            "Epoch 126: Train acc: 1.0, Train loss: 0.0007248257752507925 | Validation Accuracy: 0.37883435582822084, Validation loss: 5.072719660672274\n",
            "Epoch 127: Train acc: 1.0, Train loss: 0.0007064990308468363 | Validation Accuracy: 0.37883435582822084, Validation loss: 5.084089387546886\n",
            "Epoch 128: Train acc: 1.0, Train loss: 0.0006884527960903055 | Validation Accuracy: 0.37883435582822084, Validation loss: 5.0941573273051866\n",
            "Epoch 129: Train acc: 1.0, Train loss: 0.0006711831485431286 | Validation Accuracy: 0.37883435582822084, Validation loss: 5.104462168433449\n",
            "Epoch 130: Train acc: 1.0, Train loss: 0.0006544427014887333 | Validation Accuracy: 0.37883435582822084, Validation loss: 5.115000638094815\n",
            "Epoch 131: Train acc: 1.0, Train loss: 0.0006383869234317293 | Validation Accuracy: 0.37883435582822084, Validation loss: 5.125650427558205\n",
            "Epoch 132: Train acc: 1.0, Train loss: 0.0006224258090480275 | Validation Accuracy: 0.37883435582822084, Validation loss: 5.135966344313188\n",
            "Epoch 133: Train acc: 1.0, Train loss: 0.0006071027760515877 | Validation Accuracy: 0.3803680981595092, Validation loss: 5.146778128363869\n",
            "Epoch 134: Train acc: 1.0, Train loss: 0.0005918887770912122 | Validation Accuracy: 0.37883435582822084, Validation loss: 5.1569272388111465\n",
            "Epoch 135: Train acc: 1.0, Train loss: 0.0005773207521997392 | Validation Accuracy: 0.3803680981595092, Validation loss: 5.167877067219127\n",
            "Epoch 136: Train acc: 1.0, Train loss: 0.000562965287134007 | Validation Accuracy: 0.37883435582822084, Validation loss: 5.1780032461339776\n",
            "Epoch 137: Train acc: 1.0, Train loss: 0.0005489170531897495 | Validation Accuracy: 0.37883435582822084, Validation loss: 5.1890107501636855\n",
            "Epoch 138: Train acc: 1.0, Train loss: 0.0005353701666795782 | Validation Accuracy: 0.3773006134969325, Validation loss: 5.199738264083862\n",
            "Epoch 139: Train acc: 1.0, Train loss: 0.0005219292014815091 | Validation Accuracy: 0.3773006134969325, Validation loss: 5.209965640848333\n",
            "Epoch 140: Train acc: 1.0, Train loss: 0.0005092537480994084 | Validation Accuracy: 0.3773006134969325, Validation loss: 5.220743981274691\n",
            "Epoch 141: Train acc: 1.0, Train loss: 0.0004965190954473135 | Validation Accuracy: 0.3773006134969325, Validation loss: 5.231539206071333\n",
            "Epoch 142: Train acc: 1.0, Train loss: 0.00048432564168858033 | Validation Accuracy: 0.3773006134969325, Validation loss: 5.242085608569059\n",
            "Epoch 143: Train acc: 1.0, Train loss: 0.00047211957904177586 | Validation Accuracy: 0.3773006134969325, Validation loss: 5.253107591108843\n",
            "Epoch 144: Train acc: 1.0, Train loss: 0.0004607044136805815 | Validation Accuracy: 0.3773006134969325, Validation loss: 5.263657678257335\n",
            "Epoch 145: Train acc: 1.0, Train loss: 0.0004491061554290354 | Validation Accuracy: 0.3773006134969325, Validation loss: 5.274110859090632\n",
            "Epoch 146: Train acc: 1.0, Train loss: 0.00043795163565803143 | Validation Accuracy: 0.37576687116564417, Validation loss: 5.285248301245949\n",
            "Epoch 147: Train acc: 1.0, Train loss: 0.000426958031658571 | Validation Accuracy: 0.3773006134969325, Validation loss: 5.295988364653154\n",
            "Epoch 148: Train acc: 1.0, Train loss: 0.00041641302162870054 | Validation Accuracy: 0.3773006134969325, Validation loss: 5.307455669749867\n",
            "Epoch 149: Train acc: 1.0, Train loss: 0.00040624752346914085 | Validation Accuracy: 0.37576687116564417, Validation loss: 5.317681160840121\n",
            "Epoch 150: Train acc: 1.0, Train loss: 0.00039626606338147427 | Validation Accuracy: 0.37576687116564417, Validation loss: 5.328408284620806\n",
            "Epoch 151: Train acc: 1.0, Train loss: 0.0003864130017713511 | Validation Accuracy: 0.37576687116564417, Validation loss: 5.339176459745928\n",
            "Epoch 152: Train acc: 1.0, Train loss: 0.0003766870462901092 | Validation Accuracy: 0.3773006134969325, Validation loss: 5.3499206412922256\n",
            "Epoch 153: Train acc: 1.0, Train loss: 0.00036743605146295435 | Validation Accuracy: 0.3773006134969325, Validation loss: 5.360842769796198\n",
            "Epoch 154: Train acc: 1.0, Train loss: 0.0003585149707283736 | Validation Accuracy: 0.37576687116564417, Validation loss: 5.37182879447937\n",
            "Epoch 155: Train acc: 1.0, Train loss: 0.00034953137981661017 | Validation Accuracy: 0.37883435582822084, Validation loss: 5.382791670885953\n",
            "Epoch 156: Train acc: 1.0, Train loss: 0.0003408603086080846 | Validation Accuracy: 0.3773006134969325, Validation loss: 5.393820740959861\n",
            "Epoch 157: Train acc: 1.0, Train loss: 0.00033247991467803893 | Validation Accuracy: 0.37883435582822084, Validation loss: 5.405204816298052\n"
          ]
        },
        {
          "output_type": "error",
          "ename": "KeyboardInterrupt",
          "evalue": "ignored",
          "traceback": [
            "\u001b[0;31m---------------------------------------------------------------------------\u001b[0m",
            "\u001b[0;31mKeyboardInterrupt\u001b[0m                         Traceback (most recent call last)",
            "\u001b[0;32m<ipython-input-36-fd4003a21dc0>\u001b[0m in \u001b[0;36m<module>\u001b[0;34m\u001b[0m\n\u001b[1;32m      3\u001b[0m \u001b[0;34m\u001b[0m\u001b[0m\n\u001b[1;32m      4\u001b[0m \u001b[0mclassifier\u001b[0m \u001b[0;34m=\u001b[0m \u001b[0mmainClassifier\u001b[0m\u001b[0;34m(\u001b[0m\u001b[0;34m)\u001b[0m\u001b[0;34m\u001b[0m\u001b[0;34m\u001b[0m\u001b[0m\n\u001b[0;32m----> 5\u001b[0;31m \u001b[0mtrain\u001b[0m\u001b[0;34m(\u001b[0m\u001b[0mclassifier\u001b[0m\u001b[0;34m,\u001b[0m \u001b[0mtrain_loader\u001b[0m\u001b[0;34m=\u001b[0m\u001b[0mtrainEmedding\u001b[0m\u001b[0;34m,\u001b[0m \u001b[0mval_loader\u001b[0m\u001b[0;34m=\u001b[0m\u001b[0mvalEmedding\u001b[0m\u001b[0;34m,\u001b[0m \u001b[0mbatch_size\u001b[0m \u001b[0;34m=\u001b[0m \u001b[0;36m64\u001b[0m\u001b[0;34m,\u001b[0m \u001b[0mlearning_rate\u001b[0m\u001b[0;34m=\u001b[0m\u001b[0;36m0.0008\u001b[0m \u001b[0;34m,\u001b[0m \u001b[0mnum_epochs\u001b[0m \u001b[0;34m=\u001b[0m \u001b[0;36m200\u001b[0m\u001b[0;34m)\u001b[0m\u001b[0;34m\u001b[0m\u001b[0;34m\u001b[0m\u001b[0m\n\u001b[0m",
            "\u001b[0;32m<ipython-input-33-83ce5061a55e>\u001b[0m in \u001b[0;36mtrain\u001b[0;34m(model, train_loader, val_loader, batch_size, learning_rate, num_epochs, doValidation)\u001b[0m\n\u001b[1;32m     27\u001b[0m             \u001b[0mloss\u001b[0m \u001b[0;34m=\u001b[0m \u001b[0mcriterion\u001b[0m\u001b[0;34m(\u001b[0m\u001b[0mout\u001b[0m\u001b[0;34m,\u001b[0m \u001b[0mlabels\u001b[0m\u001b[0;34m)\u001b[0m \u001b[0;31m# compute the total loss\u001b[0m\u001b[0;34m\u001b[0m\u001b[0;34m\u001b[0m\u001b[0m\n\u001b[1;32m     28\u001b[0m             \u001b[0mloss\u001b[0m\u001b[0;34m.\u001b[0m\u001b[0mbackward\u001b[0m\u001b[0;34m(\u001b[0m\u001b[0;34m)\u001b[0m               \u001b[0;31m# backward pass (compute parameter updates)\u001b[0m\u001b[0;34m\u001b[0m\u001b[0;34m\u001b[0m\u001b[0m\n\u001b[0;32m---> 29\u001b[0;31m             \u001b[0moptimizer\u001b[0m\u001b[0;34m.\u001b[0m\u001b[0mstep\u001b[0m\u001b[0;34m(\u001b[0m\u001b[0;34m)\u001b[0m              \u001b[0;31m# make the updates for each parameter\u001b[0m\u001b[0;34m\u001b[0m\u001b[0;34m\u001b[0m\u001b[0m\n\u001b[0m\u001b[1;32m     30\u001b[0m             \u001b[0moptimizer\u001b[0m\u001b[0;34m.\u001b[0m\u001b[0mzero_grad\u001b[0m\u001b[0;34m(\u001b[0m\u001b[0;34m)\u001b[0m         \u001b[0;31m# a clean up step for PyTorch\u001b[0m\u001b[0;34m\u001b[0m\u001b[0;34m\u001b[0m\u001b[0m\n\u001b[1;32m     31\u001b[0m \u001b[0;34m\u001b[0m\u001b[0m\n",
            "\u001b[0;32m/usr/local/lib/python3.7/dist-packages/torch/optim/optimizer.py\u001b[0m in \u001b[0;36mwrapper\u001b[0;34m(*args, **kwargs)\u001b[0m\n\u001b[1;32m    111\u001b[0m                 \u001b[0mprofile_name\u001b[0m \u001b[0;34m=\u001b[0m \u001b[0;34m\"Optimizer.step#{}.step\"\u001b[0m\u001b[0;34m.\u001b[0m\u001b[0mformat\u001b[0m\u001b[0;34m(\u001b[0m\u001b[0mobj\u001b[0m\u001b[0;34m.\u001b[0m\u001b[0m__class__\u001b[0m\u001b[0;34m.\u001b[0m\u001b[0m__name__\u001b[0m\u001b[0;34m)\u001b[0m\u001b[0;34m\u001b[0m\u001b[0;34m\u001b[0m\u001b[0m\n\u001b[1;32m    112\u001b[0m                 \u001b[0;32mwith\u001b[0m \u001b[0mtorch\u001b[0m\u001b[0;34m.\u001b[0m\u001b[0mautograd\u001b[0m\u001b[0;34m.\u001b[0m\u001b[0mprofiler\u001b[0m\u001b[0;34m.\u001b[0m\u001b[0mrecord_function\u001b[0m\u001b[0;34m(\u001b[0m\u001b[0mprofile_name\u001b[0m\u001b[0;34m)\u001b[0m\u001b[0;34m:\u001b[0m\u001b[0;34m\u001b[0m\u001b[0;34m\u001b[0m\u001b[0m\n\u001b[0;32m--> 113\u001b[0;31m                     \u001b[0;32mreturn\u001b[0m \u001b[0mfunc\u001b[0m\u001b[0;34m(\u001b[0m\u001b[0;34m*\u001b[0m\u001b[0margs\u001b[0m\u001b[0;34m,\u001b[0m \u001b[0;34m**\u001b[0m\u001b[0mkwargs\u001b[0m\u001b[0;34m)\u001b[0m\u001b[0;34m\u001b[0m\u001b[0;34m\u001b[0m\u001b[0m\n\u001b[0m\u001b[1;32m    114\u001b[0m             \u001b[0;32mreturn\u001b[0m \u001b[0mwrapper\u001b[0m\u001b[0;34m\u001b[0m\u001b[0;34m\u001b[0m\u001b[0m\n\u001b[1;32m    115\u001b[0m \u001b[0;34m\u001b[0m\u001b[0m\n",
            "\u001b[0;32m/usr/local/lib/python3.7/dist-packages/torch/autograd/grad_mode.py\u001b[0m in \u001b[0;36mdecorate_context\u001b[0;34m(*args, **kwargs)\u001b[0m\n\u001b[1;32m     25\u001b[0m         \u001b[0;32mdef\u001b[0m \u001b[0mdecorate_context\u001b[0m\u001b[0;34m(\u001b[0m\u001b[0;34m*\u001b[0m\u001b[0margs\u001b[0m\u001b[0;34m,\u001b[0m \u001b[0;34m**\u001b[0m\u001b[0mkwargs\u001b[0m\u001b[0;34m)\u001b[0m\u001b[0;34m:\u001b[0m\u001b[0;34m\u001b[0m\u001b[0;34m\u001b[0m\u001b[0m\n\u001b[1;32m     26\u001b[0m             \u001b[0;32mwith\u001b[0m \u001b[0mself\u001b[0m\u001b[0;34m.\u001b[0m\u001b[0mclone\u001b[0m\u001b[0;34m(\u001b[0m\u001b[0;34m)\u001b[0m\u001b[0;34m:\u001b[0m\u001b[0;34m\u001b[0m\u001b[0;34m\u001b[0m\u001b[0m\n\u001b[0;32m---> 27\u001b[0;31m                 \u001b[0;32mreturn\u001b[0m \u001b[0mfunc\u001b[0m\u001b[0;34m(\u001b[0m\u001b[0;34m*\u001b[0m\u001b[0margs\u001b[0m\u001b[0;34m,\u001b[0m \u001b[0;34m**\u001b[0m\u001b[0mkwargs\u001b[0m\u001b[0;34m)\u001b[0m\u001b[0;34m\u001b[0m\u001b[0;34m\u001b[0m\u001b[0m\n\u001b[0m\u001b[1;32m     28\u001b[0m         \u001b[0;32mreturn\u001b[0m \u001b[0mcast\u001b[0m\u001b[0;34m(\u001b[0m\u001b[0mF\u001b[0m\u001b[0;34m,\u001b[0m \u001b[0mdecorate_context\u001b[0m\u001b[0;34m)\u001b[0m\u001b[0;34m\u001b[0m\u001b[0;34m\u001b[0m\u001b[0m\n\u001b[1;32m     29\u001b[0m \u001b[0;34m\u001b[0m\u001b[0m\n",
            "\u001b[0;32m/usr/local/lib/python3.7/dist-packages/torch/optim/adam.py\u001b[0m in \u001b[0;36mstep\u001b[0;34m(self, closure)\u001b[0m\n\u001b[1;32m    169\u001b[0m                  \u001b[0mmaximize\u001b[0m\u001b[0;34m=\u001b[0m\u001b[0mgroup\u001b[0m\u001b[0;34m[\u001b[0m\u001b[0;34m'maximize'\u001b[0m\u001b[0;34m]\u001b[0m\u001b[0;34m,\u001b[0m\u001b[0;34m\u001b[0m\u001b[0;34m\u001b[0m\u001b[0m\n\u001b[1;32m    170\u001b[0m                  \u001b[0mforeach\u001b[0m\u001b[0;34m=\u001b[0m\u001b[0mgroup\u001b[0m\u001b[0;34m[\u001b[0m\u001b[0;34m'foreach'\u001b[0m\u001b[0;34m]\u001b[0m\u001b[0;34m,\u001b[0m\u001b[0;34m\u001b[0m\u001b[0;34m\u001b[0m\u001b[0m\n\u001b[0;32m--> 171\u001b[0;31m                  capturable=group['capturable'])\n\u001b[0m\u001b[1;32m    172\u001b[0m \u001b[0;34m\u001b[0m\u001b[0m\n\u001b[1;32m    173\u001b[0m         \u001b[0;32mreturn\u001b[0m \u001b[0mloss\u001b[0m\u001b[0;34m\u001b[0m\u001b[0;34m\u001b[0m\u001b[0m\n",
            "\u001b[0;32m/usr/local/lib/python3.7/dist-packages/torch/optim/adam.py\u001b[0m in \u001b[0;36madam\u001b[0;34m(params, grads, exp_avgs, exp_avg_sqs, max_exp_avg_sqs, state_steps, foreach, capturable, amsgrad, beta1, beta2, lr, weight_decay, eps, maximize)\u001b[0m\n\u001b[1;32m    224\u001b[0m          \u001b[0meps\u001b[0m\u001b[0;34m=\u001b[0m\u001b[0meps\u001b[0m\u001b[0;34m,\u001b[0m\u001b[0;34m\u001b[0m\u001b[0;34m\u001b[0m\u001b[0m\n\u001b[1;32m    225\u001b[0m          \u001b[0mmaximize\u001b[0m\u001b[0;34m=\u001b[0m\u001b[0mmaximize\u001b[0m\u001b[0;34m,\u001b[0m\u001b[0;34m\u001b[0m\u001b[0;34m\u001b[0m\u001b[0m\n\u001b[0;32m--> 226\u001b[0;31m          capturable=capturable)\n\u001b[0m\u001b[1;32m    227\u001b[0m \u001b[0;34m\u001b[0m\u001b[0m\n\u001b[1;32m    228\u001b[0m \u001b[0;34m\u001b[0m\u001b[0m\n",
            "\u001b[0;32m/usr/local/lib/python3.7/dist-packages/torch/optim/adam.py\u001b[0m in \u001b[0;36m_single_tensor_adam\u001b[0;34m(params, grads, exp_avgs, exp_avg_sqs, max_exp_avg_sqs, state_steps, amsgrad, beta1, beta2, lr, weight_decay, eps, maximize, capturable)\u001b[0m\n\u001b[1;32m    305\u001b[0m                 \u001b[0mdenom\u001b[0m \u001b[0;34m=\u001b[0m \u001b[0;34m(\u001b[0m\u001b[0mexp_avg_sq\u001b[0m\u001b[0;34m.\u001b[0m\u001b[0msqrt\u001b[0m\u001b[0;34m(\u001b[0m\u001b[0;34m)\u001b[0m \u001b[0;34m/\u001b[0m \u001b[0mbias_correction2_sqrt\u001b[0m\u001b[0;34m)\u001b[0m\u001b[0;34m.\u001b[0m\u001b[0madd_\u001b[0m\u001b[0;34m(\u001b[0m\u001b[0meps\u001b[0m\u001b[0;34m)\u001b[0m\u001b[0;34m\u001b[0m\u001b[0;34m\u001b[0m\u001b[0m\n\u001b[1;32m    306\u001b[0m \u001b[0;34m\u001b[0m\u001b[0m\n\u001b[0;32m--> 307\u001b[0;31m             \u001b[0mparam\u001b[0m\u001b[0;34m.\u001b[0m\u001b[0maddcdiv_\u001b[0m\u001b[0;34m(\u001b[0m\u001b[0mexp_avg\u001b[0m\u001b[0;34m,\u001b[0m \u001b[0mdenom\u001b[0m\u001b[0;34m,\u001b[0m \u001b[0mvalue\u001b[0m\u001b[0;34m=\u001b[0m\u001b[0;34m-\u001b[0m\u001b[0mstep_size\u001b[0m\u001b[0;34m)\u001b[0m\u001b[0;34m\u001b[0m\u001b[0;34m\u001b[0m\u001b[0m\n\u001b[0m\u001b[1;32m    308\u001b[0m \u001b[0;34m\u001b[0m\u001b[0m\n\u001b[1;32m    309\u001b[0m \u001b[0;34m\u001b[0m\u001b[0m\n",
            "\u001b[0;31mKeyboardInterrupt\u001b[0m: "
          ]
        }
      ]
    },
    {
      "cell_type": "code",
      "source": [
        "model_path = get_model_name(\"mainClassifier3Layer\", batch_size = 64, epoch = 199, learning_rate=0.001)\n",
        "plot_training_curve(model_path)\n",
        "\n",
        "# swichted to adam\n",
        "# best at Epoch 74: Train acc: 1.0, Train loss: 0.002755338741865541 | Validation Accuracy: 0.40797546012269936, Validation loss: 4.64330133524808\n",
        "# Test accuracy is 0.3981623277182236 Test loss is 4.424333203922618"
      ],
      "metadata": {
        "colab": {
          "base_uri": "https://localhost:8080/",
          "height": 573
        },
        "id": "tkdMHJBf8IUa",
        "outputId": "15340d30-5f57-4704-dbc6-5082b77b29c4"
      },
      "execution_count": null,
      "outputs": [
        {
          "output_type": "display_data",
          "data": {
            "text/plain": [
              "<Figure size 432x288 with 1 Axes>"
            ],
            "image/png": "[encoded data removed]"
          },
          "metadata": {
            "needs_background": "light"
          }
        },
        {
          "output_type": "display_data",
          "data": {
            "text/plain": [
              "<Figure size 432x288 with 1 Axes>"
            ],
            "image/png": "[encoded data removed]"
          },
          "metadata": {
            "needs_background": "light"
          }
        }
      ]
    },
    {
      "cell_type": "code",
      "source": [
        "model_path = get_model_name(\"mainClassifier3Layer\", batch_size = 64, epoch = 299, learning_rate=0.0007)\n",
        "plot_training_curve(model_path)\n",
        "\n",
        "# best at Epoch 162: Train acc: 0.5210727969348659, Train loss: 1.5365643217450096 | Validation Accuracy: 0.37423312883435583, Validation loss: 2.1333358504555444\n",
        "# Test accuracy is 0.33078101071975496 Test loss is 2.1828402172435415"
      ],
      "metadata": {
        "colab": {
          "base_uri": "https://localhost:8080/",
          "height": 573
        },
        "id": "GGOEogik2rOz",
        "outputId": "c2e00a7e-068a-4554-e4e2-c8ae99681e2d"
      },
      "execution_count": null,
      "outputs": [
        {
          "output_type": "display_data",
          "data": {
            "text/plain": [
              "<Figure size 432x288 with 1 Axes>"
            ],
            "image/png": "[encoded data removed]"
          },
          "metadata": {
            "needs_background": "light"
          }
        },
        {
          "output_type": "display_data",
          "data": {
            "text/plain": [
              "<Figure size 432x288 with 1 Axes>"
            ],
            "image/png": "[encoded data removed]"
          },
          "metadata": {
            "needs_background": "light"
          }
        }
      ]
    },
    {
      "cell_type": "code",
      "source": [
        "model_path = get_model_name(\"mainClassifier3Layer\", batch_size = 32, epoch = 199, learning_rate=0.001)\n",
        "plot_training_curve(model_path)\n",
        "\n",
        "# best val: Epoch 131: Train acc: 0.6178107606679035, Train loss: 1.3369542161623638 | Validation Accuracy: 0.208955223880597, Validation loss: 2.7305076122283936"
      ],
      "metadata": {
        "colab": {
          "base_uri": "https://localhost:8080/",
          "height": 573
        },
        "id": "KRc2komA-iF5",
        "outputId": "8c6df0f0-2b2c-4618-a635-7a940c1c6c71"
      },
      "execution_count": null,
      "outputs": [
        {
          "output_type": "display_data",
          "data": {
            "text/plain": [
              "<Figure size 432x288 with 1 Axes>"
            ],
            "image/png": "[encoded data removed]"
          },
          "metadata": {
            "needs_background": "light"
          }
        },
        {
          "output_type": "display_data",
          "data": {
            "text/plain": [
              "<Figure size 432x288 with 1 Axes>"
            ],
            "image/png": "[encoded data removed]"
          },
          "metadata": {
            "needs_background": "light"
          }
        }
      ]
    },
    {
      "cell_type": "code",
      "source": [
        "model_path = get_model_name(\"mainClassifier3Layer\", batch_size = 32, epoch = 399, learning_rate=0.0005)\n",
        "plot_training_curve(model_path)\n",
        "\n",
        "# best at Epoch 266: Train acc: 0.6382189239332097, Train loss: 1.2788088454140558 | Validation Accuracy: 0.22388059701492538, Validation loss: 2.743464994430542\n",
        "\n",
        "# It looks like it's overfitting really easily. Potentially due to small dataset?"
      ],
      "metadata": {
        "colab": {
          "base_uri": "https://localhost:8080/",
          "height": 573
        },
        "id": "E_nid_k5AIzE",
        "outputId": "b316a139-f913-4554-8f9b-13b84e124491"
      },
      "execution_count": null,
      "outputs": [
        {
          "output_type": "display_data",
          "data": {
            "text/plain": [
              "<Figure size 432x288 with 1 Axes>"
            ],
            "image/png": "[encoded data removed]"
          },
          "metadata": {
            "needs_background": "light"
          }
        },
        {
          "output_type": "display_data",
          "data": {
            "text/plain": [
              "<Figure size 432x288 with 1 Axes>"
            ],
            "image/png": "[encoded data removed]"
          },
          "metadata": {
            "needs_background": "light"
          }
        }
      ]
    },
    {
      "cell_type": "code",
      "source": [
        "model_path = get_model_name(\"mainClassifier3Layer\", batch_size = 32, epoch = 299, learning_rate=0.0004)\n",
        "plot_training_curve(model_path)\n",
        "\n",
        "# switched to adam for optimizer\n",
        "# Epoch 18: Train acc: 0.7588126159554731, Train loss: 0.8628204630480872 | Validation Accuracy: 0.23880597014925373, Validation loss: 3.002454948425293"
      ],
      "metadata": {
        "colab": {
          "base_uri": "https://localhost:8080/",
          "height": 573
        },
        "id": "Xe0ldv8BCfhY",
        "outputId": "171f315c-3388-4219-8c53-9f6ba573b3fb"
      },
      "execution_count": null,
      "outputs": [
        {
          "output_type": "display_data",
          "data": {
            "text/plain": [
              "<Figure size 432x288 with 1 Axes>"
            ],
            "image/png": "[encoded data removed]"
          },
          "metadata": {
            "needs_background": "light"
          }
        },
        {
          "output_type": "display_data",
          "data": {
            "text/plain": [
              "<Figure size 432x288 with 1 Axes>"
            ],
            "image/png": "[encoded data removed]"
          },
          "metadata": {
            "needs_background": "light"
          }
        }
      ]
    },
    {
      "cell_type": "code",
      "source": [
        "bestClassifier = mainClassifier()\n",
        "model_path = get_model_name(\"mainClassifier3Layer\", batch_size = 64, epoch = 73, learning_rate=0.001)\n",
        "state = torch.load(model_path)\n",
        "bestClassifier.load_state_dict(state)\n",
        "\n",
        "criterion = nn.CrossEntropyLoss()\n",
        "testEmedding = torch.load('/content/gdrive/MyDrive/Project/embeddings/' + \"test64\")\n",
        "test_acc, test_loss = evaluate(bestClassifier, testEmedding, criterion)\n",
        "\n",
        "\n",
        "print(\"Test accuracy is\", test_acc, \"Test loss is\", test_loss)"
      ],
      "metadata": {
        "colab": {
          "base_uri": "https://localhost:8080/"
        },
        "id": "pMtARh5e85l3",
        "outputId": "f2854909-aa7e-4b62-dd73-95006ebda4e2"
      },
      "execution_count": null,
      "outputs": [
        {
          "output_type": "stream",
          "name": "stdout",
          "text": [
            "Test accuracy is 0.3981623277182236 Test loss is 4.424333203922618\n"
          ]
        }
      ]
    },
    {
      "cell_type": "code",
      "source": [
        "model_path = get_model_name(\"mainClassifier3Layer\", batch_size = 32, epoch = 99, learning_rate=0.0003)\n",
        "plot_training_curve(model_path)"
      ],
      "metadata": {
        "id": "abDdOYviGcPW",
        "outputId": "917e726f-2d65-4a84-992f-1a6a7c6d5c74",
        "colab": {
          "base_uri": "https://localhost:8080/",
          "height": 573
        }
      },
      "execution_count": null,
      "outputs": [
        {
          "output_type": "display_data",
          "data": {
            "text/plain": [
              "<Figure size 432x288 with 1 Axes>"
            ],
            "image/png": "[encoded data removed]"
          },
          "metadata": {
            "needs_background": "light"
          }
        },
        {
          "output_type": "display_data",
          "data": {
            "text/plain": [
              "<Figure size 432x288 with 1 Axes>"
            ],
            "image/png": "[encoded data removed]"
          },
          "metadata": {
            "needs_background": "light"
          }
        }
      ]
    }
  ]
}